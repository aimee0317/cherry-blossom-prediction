{
 "cells": [
  {
   "cell_type": "markdown",
   "id": "ebbf03fa-49be-4e75-a43f-a148d7441d5c",
   "metadata": {},
   "source": [
    "## Imports"
   ]
  },
  {
   "cell_type": "code",
   "execution_count": 1,
   "id": "b03709bb-9e58-4ee8-8d2f-de2c62ca8780",
   "metadata": {},
   "outputs": [
    {
     "data": {
      "text/plain": [
       "DataTransformerRegistry.enable('data_server')"
      ]
     },
     "execution_count": 1,
     "metadata": {},
     "output_type": "execute_result"
    }
   ],
   "source": [
    "import os\n",
    "\n",
    "import altair as alt\n",
    "import matplotlib.pyplot as plt\n",
    "import numpy as np\n",
    "import pandas as pd\n",
    "import shap\n",
    "from catboost import CatBoostRegressor\n",
    "from lightgbm.sklearn import LGBMRegressor\n",
    "from sklearn.compose import ColumnTransformer, make_column_transformer\n",
    "from sklearn.dummy import DummyRegressor\n",
    "from sklearn.feature_selection import RFE, RFECV, SelectFromModel\n",
    "from sklearn.impute import SimpleImputer\n",
    "from sklearn.linear_model import Lasso, LassoCV, LogisticRegression, Ridge, RidgeCV\n",
    "from sklearn.metrics import make_scorer, mean_squared_error, r2_score\n",
    "from sklearn.model_selection import (\n",
    "    GridSearchCV,\n",
    "    RandomizedSearchCV,\n",
    "    ShuffleSplit,\n",
    "    cross_val_score,\n",
    "    cross_validate,\n",
    "    train_test_split,\n",
    ")\n",
    "from sklearn.neighbors import KNeighborsRegressor\n",
    "from sklearn.pipeline import Pipeline, make_pipeline\n",
    "from sklearn.preprocessing import (\n",
    "    OneHotEncoder,\n",
    "    OrdinalEncoder,\n",
    "    PolynomialFeatures,\n",
    "    StandardScaler,\n",
    ")\n",
    "from sklearn.svm import SVC, SVR\n",
    "from sklearn.tree import DecisionTreeRegressor, export_graphviz\n",
    "\n",
    "alt.data_transformers.disable_max_rows()\n",
    "alt.renderers.enable(\"mimetype\")\n",
    "alt.data_transformers.enable(\"data_server\")"
   ]
  },
  {
   "cell_type": "markdown",
   "id": "6ab289db-7a21-4b16-a482-b3f84aa8e19f",
   "metadata": {},
   "source": [
    "## Data split"
   ]
  },
  {
   "cell_type": "markdown",
   "id": "136c39ca-f9ce-47b0-b9ca-fb1426944dd9",
   "metadata": {},
   "source": [
    "- Split the data into 70% train and 30% test portions."
   ]
  },
  {
   "cell_type": "code",
   "execution_count": 2,
   "id": "952e703f-9775-48c3-b4c2-e067b776fb28",
   "metadata": {},
   "outputs": [],
   "source": [
    "df = pd.read_csv(\"../data/processed/clean_data.csv\").dropna()\n",
    "df.shape\n",
    "df.head()\n",
    "train_df, test_df = train_test_split(df, test_size=0.3, random_state=42)\n",
    "\n",
    "X_train, y_train = train_df.drop(columns=[\"bloom_doy\"]), train_df[\"bloom_doy\"]\n",
    "X_test, y_test = test_df.drop(columns=[\"bloom_doy\"]), test_df[\"bloom_doy\"]"
   ]
  },
  {
   "cell_type": "code",
   "execution_count": 3,
   "id": "ea17cd67-18b4-4558-bdee-9e576aaf7196",
   "metadata": {},
   "outputs": [
    {
     "data": {
      "text/html": [
       "<div>\n",
       "<style scoped>\n",
       "    .dataframe tbody tr th:only-of-type {\n",
       "        vertical-align: middle;\n",
       "    }\n",
       "\n",
       "    .dataframe tbody tr th {\n",
       "        vertical-align: top;\n",
       "    }\n",
       "\n",
       "    .dataframe thead th {\n",
       "        text-align: right;\n",
       "    }\n",
       "</style>\n",
       "<table border=\"1\" class=\"dataframe\">\n",
       "  <thead>\n",
       "    <tr style=\"text-align: right;\">\n",
       "      <th></th>\n",
       "      <th>year</th>\n",
       "      <th>bloom_doy</th>\n",
       "      <th>lat</th>\n",
       "      <th>long</th>\n",
       "      <th>alt</th>\n",
       "      <th>tmax</th>\n",
       "      <th>tmin</th>\n",
       "      <th>prcp</th>\n",
       "      <th>agdd_winter</th>\n",
       "      <th>tmax_winter</th>\n",
       "      <th>tmin_winter</th>\n",
       "      <th>prcp_winter</th>\n",
       "      <th>co2_percapita</th>\n",
       "    </tr>\n",
       "  </thead>\n",
       "  <tbody>\n",
       "    <tr>\n",
       "      <th>count</th>\n",
       "      <td>6182.000000</td>\n",
       "      <td>6182.000000</td>\n",
       "      <td>6182.000000</td>\n",
       "      <td>6182.000000</td>\n",
       "      <td>6182.000000</td>\n",
       "      <td>6182.000000</td>\n",
       "      <td>6182.000000</td>\n",
       "      <td>6182.000000</td>\n",
       "      <td>6182.000000</td>\n",
       "      <td>6182.000000</td>\n",
       "      <td>6182.000000</td>\n",
       "      <td>6182.000000</td>\n",
       "      <td>6182.000000</td>\n",
       "    </tr>\n",
       "    <tr>\n",
       "      <th>mean</th>\n",
       "      <td>1986.743449</td>\n",
       "      <td>100.868004</td>\n",
       "      <td>36.839247</td>\n",
       "      <td>126.607992</td>\n",
       "      <td>77.202855</td>\n",
       "      <td>18.177810</td>\n",
       "      <td>9.929257</td>\n",
       "      <td>6.389386</td>\n",
       "      <td>320.095987</td>\n",
       "      <td>8.088522</td>\n",
       "      <td>0.047995</td>\n",
       "      <td>37.123668</td>\n",
       "      <td>7.504484</td>\n",
       "    </tr>\n",
       "    <tr>\n",
       "      <th>std</th>\n",
       "      <td>18.669969</td>\n",
       "      <td>22.153055</td>\n",
       "      <td>4.805676</td>\n",
       "      <td>36.900664</td>\n",
       "      <td>152.036007</td>\n",
       "      <td>4.133808</td>\n",
       "      <td>4.474933</td>\n",
       "      <td>5.852501</td>\n",
       "      <td>271.118653</td>\n",
       "      <td>5.171065</td>\n",
       "      <td>5.613492</td>\n",
       "      <td>31.326893</td>\n",
       "      <td>2.941605</td>\n",
       "    </tr>\n",
       "    <tr>\n",
       "      <th>min</th>\n",
       "      <td>1950.000000</td>\n",
       "      <td>8.000000</td>\n",
       "      <td>24.336667</td>\n",
       "      <td>-77.038628</td>\n",
       "      <td>0.000000</td>\n",
       "      <td>-1.231429</td>\n",
       "      <td>-6.891667</td>\n",
       "      <td>0.300000</td>\n",
       "      <td>0.000000</td>\n",
       "      <td>-5.361290</td>\n",
       "      <td>-19.231605</td>\n",
       "      <td>0.000000</td>\n",
       "      <td>1.238400</td>\n",
       "    </tr>\n",
       "    <tr>\n",
       "      <th>25%</th>\n",
       "      <td>1972.000000</td>\n",
       "      <td>93.000000</td>\n",
       "      <td>34.338333</td>\n",
       "      <td>130.982500</td>\n",
       "      <td>5.700000</td>\n",
       "      <td>15.445254</td>\n",
       "      <td>6.732201</td>\n",
       "      <td>3.472131</td>\n",
       "      <td>107.162500</td>\n",
       "      <td>4.469276</td>\n",
       "      <td>-3.048046</td>\n",
       "      <td>16.643862</td>\n",
       "      <td>5.962850</td>\n",
       "    </tr>\n",
       "    <tr>\n",
       "      <th>50%</th>\n",
       "      <td>1987.000000</td>\n",
       "      <td>99.000000</td>\n",
       "      <td>35.535833</td>\n",
       "      <td>136.193333</td>\n",
       "      <td>26.500000</td>\n",
       "      <td>19.180202</td>\n",
       "      <td>10.368247</td>\n",
       "      <td>4.798739</td>\n",
       "      <td>277.550000</td>\n",
       "      <td>8.939666</td>\n",
       "      <td>0.467114</td>\n",
       "      <td>27.195622</td>\n",
       "      <td>7.979900</td>\n",
       "    </tr>\n",
       "    <tr>\n",
       "      <th>75%</th>\n",
       "      <td>2002.000000</td>\n",
       "      <td>110.000000</td>\n",
       "      <td>39.698333</td>\n",
       "      <td>140.099167</td>\n",
       "      <td>51.100000</td>\n",
       "      <td>20.695124</td>\n",
       "      <td>12.196861</td>\n",
       "      <td>7.179105</td>\n",
       "      <td>459.062500</td>\n",
       "      <td>11.040633</td>\n",
       "      <td>2.382826</td>\n",
       "      <td>47.833111</td>\n",
       "      <td>9.736200</td>\n",
       "    </tr>\n",
       "    <tr>\n",
       "      <th>max</th>\n",
       "      <td>2021.000000</td>\n",
       "      <td>160.000000</td>\n",
       "      <td>47.568867</td>\n",
       "      <td>145.585556</td>\n",
       "      <td>1390.000000</td>\n",
       "      <td>32.300000</td>\n",
       "      <td>26.500000</td>\n",
       "      <td>122.900000</td>\n",
       "      <td>1713.350000</td>\n",
       "      <td>24.032139</td>\n",
       "      <td>18.454031</td>\n",
       "      <td>525.250000</td>\n",
       "      <td>22.236500</td>\n",
       "    </tr>\n",
       "  </tbody>\n",
       "</table>\n",
       "</div>"
      ],
      "text/plain": [
       "              year    bloom_doy          lat         long          alt  \\\n",
       "count  6182.000000  6182.000000  6182.000000  6182.000000  6182.000000   \n",
       "mean   1986.743449   100.868004    36.839247   126.607992    77.202855   \n",
       "std      18.669969    22.153055     4.805676    36.900664   152.036007   \n",
       "min    1950.000000     8.000000    24.336667   -77.038628     0.000000   \n",
       "25%    1972.000000    93.000000    34.338333   130.982500     5.700000   \n",
       "50%    1987.000000    99.000000    35.535833   136.193333    26.500000   \n",
       "75%    2002.000000   110.000000    39.698333   140.099167    51.100000   \n",
       "max    2021.000000   160.000000    47.568867   145.585556  1390.000000   \n",
       "\n",
       "              tmax         tmin         prcp  agdd_winter  tmax_winter  \\\n",
       "count  6182.000000  6182.000000  6182.000000  6182.000000  6182.000000   \n",
       "mean     18.177810     9.929257     6.389386   320.095987     8.088522   \n",
       "std       4.133808     4.474933     5.852501   271.118653     5.171065   \n",
       "min      -1.231429    -6.891667     0.300000     0.000000    -5.361290   \n",
       "25%      15.445254     6.732201     3.472131   107.162500     4.469276   \n",
       "50%      19.180202    10.368247     4.798739   277.550000     8.939666   \n",
       "75%      20.695124    12.196861     7.179105   459.062500    11.040633   \n",
       "max      32.300000    26.500000   122.900000  1713.350000    24.032139   \n",
       "\n",
       "       tmin_winter  prcp_winter  co2_percapita  \n",
       "count  6182.000000  6182.000000    6182.000000  \n",
       "mean      0.047995    37.123668       7.504484  \n",
       "std       5.613492    31.326893       2.941605  \n",
       "min     -19.231605     0.000000       1.238400  \n",
       "25%      -3.048046    16.643862       5.962850  \n",
       "50%       0.467114    27.195622       7.979900  \n",
       "75%       2.382826    47.833111       9.736200  \n",
       "max      18.454031   525.250000      22.236500  "
      ]
     },
     "execution_count": 3,
     "metadata": {},
     "output_type": "execute_result"
    }
   ],
   "source": [
    "df.describe()"
   ]
  },
  {
   "cell_type": "markdown",
   "id": "1142cbd3-7ef2-4f51-ac39-17a445248d05",
   "metadata": {},
   "source": [
    "## Preprocessing and transformations"
   ]
  },
  {
   "cell_type": "markdown",
   "id": "b1fb633e-bbe3-490c-ab95-08185a7a7e1b",
   "metadata": {},
   "source": [
    "- Identify different feature types and the transformations on each feature type."
   ]
  },
  {
   "cell_type": "code",
   "execution_count": 4,
   "id": "b03e2acd-f4b4-4bcb-8246-5053b94f5cc4",
   "metadata": {},
   "outputs": [],
   "source": [
    "# categorical_features = [\"country\", \"city\"]\n",
    "numeric_features = [\n",
    "    \"lat\",\n",
    "    \"long\",\n",
    "    \"alt\",\n",
    "    \"tmax\",\n",
    "    \"tmin\",\n",
    "    \"prcp\",\n",
    "    \"agdd_winter\",\n",
    "    \"tmax_winter\",\n",
    "    \"prcp_winter\",\n",
    "    \"co2_percapita\",\n",
    "    \"year\",\n",
    "]\n",
    "drop_features = [\"country\", \"city\"]\n",
    "target = \"bloom_doy\""
   ]
  },
  {
   "cell_type": "markdown",
   "id": "9c7cef80-5f3e-48f5-b034-7a1e16d55a8a",
   "metadata": {},
   "source": [
    "- Define a column transformer."
   ]
  },
  {
   "cell_type": "code",
   "execution_count": 5,
   "id": "c6bb4bd1-de62-4591-9204-d2519bb91450",
   "metadata": {},
   "outputs": [
    {
     "data": {
      "text/plain": [
       "(4327, 11)"
      ]
     },
     "execution_count": 5,
     "metadata": {},
     "output_type": "execute_result"
    }
   ],
   "source": [
    "scaler = StandardScaler()\n",
    "enc = OneHotEncoder(handle_unknown=\"ignore\", sparse=False)\n",
    "\n",
    "preprocessor = make_column_transformer(\n",
    "    (StandardScaler(), numeric_features),  # scaling on numeric features\n",
    "    # (\n",
    "    # OneHotEncoder(handle_unknown=\"ignore\"),\n",
    "    # categorical_features,\n",
    "    # ),  # OHE on categorical features\n",
    "    (\"drop\", drop_features),  # drop features\n",
    ")\n",
    "\n",
    "preprocessor.fit_transform(X_train).shape"
   ]
  },
  {
   "cell_type": "markdown",
   "id": "b0996939-dedd-4b75-9f95-2566f1f127e7",
   "metadata": {},
   "source": [
    "- Define scoring metrics."
   ]
  },
  {
   "cell_type": "code",
   "execution_count": 6,
   "id": "9f4ff473-d0d5-46a9-866e-591e00f46b3d",
   "metadata": {},
   "outputs": [],
   "source": [
    "def mean_std_cross_val_scores(model, X_train, y_train, **kwargs):\n",
    "    \"\"\"\n",
    "    Returns mean and std of cross validation\n",
    "\n",
    "    Parameters\n",
    "    ----------\n",
    "    model :\n",
    "        scikit-learn model\n",
    "    X_train : numpy array or pandas DataFrame\n",
    "        X in the training data\n",
    "    y_train :\n",
    "        y in the training data\n",
    "\n",
    "    Returns\n",
    "    ----------\n",
    "        pandas Series with mean scores from cross_validation\n",
    "    \"\"\"\n",
    "    scores = cross_validate(model, X_train, y_train, **kwargs)\n",
    "    mean_scores = pd.DataFrame(scores).mean()\n",
    "    std_scores = pd.DataFrame(scores).std()\n",
    "    out_col = []\n",
    "    for i in range(len(mean_scores)):\n",
    "        out_col.append((f\"%0.3f (+/- %0.3f)\" % (mean_scores[i], std_scores[i])))\n",
    "    return pd.Series(data=out_col, index=mean_scores.index)\n",
    "\n",
    "\n",
    "# make a scorer function that we can pass into cross-validation\n",
    "def mape(true, pred):\n",
    "    return 100.0 * np.mean(np.abs((pred - true) / true))\n",
    "\n",
    "\n",
    "mape_scorer = make_scorer(mape, greater_is_better=False)"
   ]
  },
  {
   "cell_type": "code",
   "execution_count": 7,
   "id": "eab4705b-0e76-4184-818a-2b1113d4cacc",
   "metadata": {},
   "outputs": [],
   "source": [
    "scoring_metrics = {\n",
    "    \"neg_RMSE\": \"neg_root_mean_squared_error\",\n",
    "    \"r2\": \"r2\",\n",
    "    \"mape\": mape_scorer,\n",
    "}"
   ]
  },
  {
   "cell_type": "markdown",
   "id": "d71c6ea9-5d9b-45bf-a23e-ef33670ec308",
   "metadata": {},
   "source": [
    "## Models"
   ]
  },
  {
   "cell_type": "markdown",
   "id": "d9b4b90e-4204-4114-82d9-ccd9911b23c6",
   "metadata": {},
   "source": [
    "- Make pipelines for all the regression models and store in \"models\" dictionary.\n",
    "    - Baseline: A regressor that makes predictions using simple rules. This regressor is useful as a simple baseline to compare with other (real) regressors. \n",
    "    - Ridge: A regressor with the loss function as the linear least squares function and regularization as the l2-norm. \n",
    "    - Decision Tree: A regressor that builds regression models in the form of a tree structure. It breaks down a data set into smaller subsets while at the same time an associated decision tree is incrementally developed.\n",
    "    - LGBM: A gradient boosting framework based on decision trees to increase the efficiency of the model and reduce memory usage.\n",
    "    - CatBoost: An algorithm for gradient boosting on decision trees.\n",
    "    - Support Vector: A regressor that works on the principle of SVM and tries to fit the best line within a threshold value.\n",
    "    - KNN: A non-parametric method that approximates the association between independent variables and the outcome by averaging the observations in the same neighborhood."
   ]
  },
  {
   "cell_type": "code",
   "execution_count": 8,
   "id": "65e3d950-a1b7-406d-b4b2-ae886e31d69c",
   "metadata": {},
   "outputs": [],
   "source": [
    "models = {\n",
    "    \"Baseline\": make_pipeline(preprocessor, DummyRegressor()),\n",
    "    \"Ridge\": make_pipeline(preprocessor, Ridge(random_state=123)),\n",
    "    \"Lasso\": make_pipeline(preprocessor, Lasso(random_state=123)),\n",
    "    \"Decision Tree\": make_pipeline(\n",
    "        preprocessor, DecisionTreeRegressor(random_state=123)\n",
    "    ),\n",
    "    \"LGBM\": make_pipeline(preprocessor, LGBMRegressor(random_state=123)),\n",
    "    \"CatBoost\": make_pipeline(\n",
    "        preprocessor, CatBoostRegressor(verbose=0, random_state=123)\n",
    "    ),\n",
    "    \"Support Vector\": make_pipeline(preprocessor, SVR(epsilon=0.2)),\n",
    "    \"KNN\": make_pipeline(\n",
    "        preprocessor,\n",
    "        KNeighborsRegressor(n_neighbors=30, weights=\"uniform\", algorithm=\"auto\"),\n",
    "    ),\n",
    "}"
   ]
  },
  {
   "cell_type": "markdown",
   "id": "b378a6c9-0d40-4054-b1e5-d55f1d9e788b",
   "metadata": {},
   "source": [
    "## Cross validation\n",
    "\n",
    "- Use root mean squared error (RMSE), R-squared, and mean absolute percentage error (MAPE) as criteria to perform cross validation. \n",
    "    - Interpretation of the results: We can see that based on RMSE, MAPE, and R-squared, Cat Boost Regression performed the best."
   ]
  },
  {
   "cell_type": "code",
   "execution_count": 9,
   "id": "1dfa7181-9753-4412-9030-b880093b12ed",
   "metadata": {},
   "outputs": [],
   "source": [
    "results = {}  # dictionary to store all the results"
   ]
  },
  {
   "cell_type": "code",
   "execution_count": 10,
   "id": "70384177-ca0b-44c9-961b-a09a6ff763cd",
   "metadata": {},
   "outputs": [],
   "source": [
    "# saving the mean cross validation scores in resutls dictionary created previously\n",
    "for model_name, model in models.items():\n",
    "    results[model_name] = mean_std_cross_val_scores(\n",
    "        model,\n",
    "        X_train,\n",
    "        y_train,\n",
    "        scoring=scoring_metrics,\n",
    "        return_train_score=True,\n",
    "    )"
   ]
  },
  {
   "cell_type": "code",
   "execution_count": 11,
   "id": "4c2af349-65c9-48fb-aaeb-a07e1555ed83",
   "metadata": {},
   "outputs": [
    {
     "data": {
      "text/html": [
       "<div>\n",
       "<style scoped>\n",
       "    .dataframe tbody tr th:only-of-type {\n",
       "        vertical-align: middle;\n",
       "    }\n",
       "\n",
       "    .dataframe tbody tr th {\n",
       "        vertical-align: top;\n",
       "    }\n",
       "\n",
       "    .dataframe thead th {\n",
       "        text-align: right;\n",
       "    }\n",
       "</style>\n",
       "<table border=\"1\" class=\"dataframe\">\n",
       "  <thead>\n",
       "    <tr style=\"text-align: right;\">\n",
       "      <th></th>\n",
       "      <th>Baseline</th>\n",
       "      <th>Ridge</th>\n",
       "      <th>Lasso</th>\n",
       "      <th>Decision Tree</th>\n",
       "      <th>LGBM</th>\n",
       "      <th>CatBoost</th>\n",
       "      <th>Support Vector</th>\n",
       "      <th>KNN</th>\n",
       "    </tr>\n",
       "  </thead>\n",
       "  <tbody>\n",
       "    <tr>\n",
       "      <th>test_neg_RMSE</th>\n",
       "      <td>-21.795 (+/- 1.233)</td>\n",
       "      <td>-8.742 (+/- 0.234)</td>\n",
       "      <td>-9.317 (+/- 0.349)</td>\n",
       "      <td>-6.360 (+/- 0.323)</td>\n",
       "      <td>-4.105 (+/- 0.125)</td>\n",
       "      <td>-3.967 (+/- 0.112)</td>\n",
       "      <td>-8.765 (+/- 0.853)</td>\n",
       "      <td>-6.591 (+/- 0.325)</td>\n",
       "    </tr>\n",
       "    <tr>\n",
       "      <th>train_neg_RMSE</th>\n",
       "      <td>-21.806 (+/- 0.312)</td>\n",
       "      <td>-8.682 (+/- 0.061)</td>\n",
       "      <td>-9.267 (+/- 0.045)</td>\n",
       "      <td>0.000 (+/- 0.000)</td>\n",
       "      <td>-2.672 (+/- 0.034)</td>\n",
       "      <td>-2.239 (+/- 0.018)</td>\n",
       "      <td>-8.618 (+/- 0.114)</td>\n",
       "      <td>-6.336 (+/- 0.109)</td>\n",
       "    </tr>\n",
       "    <tr>\n",
       "      <th>cv_r2</th>\n",
       "      <td>-0.003 (+/- 0.002)</td>\n",
       "      <td>0.838 (+/- 0.012)</td>\n",
       "      <td>0.816 (+/- 0.013)</td>\n",
       "      <td>0.914 (+/- 0.010)</td>\n",
       "      <td>0.964 (+/- 0.004)</td>\n",
       "      <td>0.967 (+/- 0.004)</td>\n",
       "      <td>0.838 (+/- 0.014)</td>\n",
       "      <td>0.908 (+/- 0.011)</td>\n",
       "    </tr>\n",
       "    <tr>\n",
       "      <th>train_r2</th>\n",
       "      <td>0.000 (+/- 0.000)</td>\n",
       "      <td>0.841 (+/- 0.003)</td>\n",
       "      <td>0.819 (+/- 0.004)</td>\n",
       "      <td>1.000 (+/- 0.000)</td>\n",
       "      <td>0.985 (+/- 0.001)</td>\n",
       "      <td>0.989 (+/- 0.000)</td>\n",
       "      <td>0.844 (+/- 0.005)</td>\n",
       "      <td>0.915 (+/- 0.004)</td>\n",
       "    </tr>\n",
       "    <tr>\n",
       "      <th>cv_mape</th>\n",
       "      <td>-21.041 (+/- 2.937)</td>\n",
       "      <td>-8.516 (+/- 0.816)</td>\n",
       "      <td>-9.214 (+/- 0.985)</td>\n",
       "      <td>-5.100 (+/- 0.568)</td>\n",
       "      <td>-3.476 (+/- 0.410)</td>\n",
       "      <td>-3.371 (+/- 0.309)</td>\n",
       "      <td>-8.342 (+/- 1.337)</td>\n",
       "      <td>-5.643 (+/- 0.627)</td>\n",
       "    </tr>\n",
       "    <tr>\n",
       "      <th>train_mape</th>\n",
       "      <td>-21.031 (+/- 0.605)</td>\n",
       "      <td>-8.456 (+/- 0.172)</td>\n",
       "      <td>-9.164 (+/- 0.184)</td>\n",
       "      <td>0.000 (+/- 0.000)</td>\n",
       "      <td>-2.328 (+/- 0.056)</td>\n",
       "      <td>-1.968 (+/- 0.034)</td>\n",
       "      <td>-8.136 (+/- 0.154)</td>\n",
       "      <td>-5.403 (+/- 0.134)</td>\n",
       "    </tr>\n",
       "  </tbody>\n",
       "</table>\n",
       "</div>"
      ],
      "text/plain": [
       "                           Baseline               Ridge               Lasso  \\\n",
       "test_neg_RMSE   -21.795 (+/- 1.233)  -8.742 (+/- 0.234)  -9.317 (+/- 0.349)   \n",
       "train_neg_RMSE  -21.806 (+/- 0.312)  -8.682 (+/- 0.061)  -9.267 (+/- 0.045)   \n",
       "cv_r2            -0.003 (+/- 0.002)   0.838 (+/- 0.012)   0.816 (+/- 0.013)   \n",
       "train_r2          0.000 (+/- 0.000)   0.841 (+/- 0.003)   0.819 (+/- 0.004)   \n",
       "cv_mape         -21.041 (+/- 2.937)  -8.516 (+/- 0.816)  -9.214 (+/- 0.985)   \n",
       "train_mape      -21.031 (+/- 0.605)  -8.456 (+/- 0.172)  -9.164 (+/- 0.184)   \n",
       "\n",
       "                     Decision Tree                LGBM            CatBoost  \\\n",
       "test_neg_RMSE   -6.360 (+/- 0.323)  -4.105 (+/- 0.125)  -3.967 (+/- 0.112)   \n",
       "train_neg_RMSE   0.000 (+/- 0.000)  -2.672 (+/- 0.034)  -2.239 (+/- 0.018)   \n",
       "cv_r2            0.914 (+/- 0.010)   0.964 (+/- 0.004)   0.967 (+/- 0.004)   \n",
       "train_r2         1.000 (+/- 0.000)   0.985 (+/- 0.001)   0.989 (+/- 0.000)   \n",
       "cv_mape         -5.100 (+/- 0.568)  -3.476 (+/- 0.410)  -3.371 (+/- 0.309)   \n",
       "train_mape       0.000 (+/- 0.000)  -2.328 (+/- 0.056)  -1.968 (+/- 0.034)   \n",
       "\n",
       "                    Support Vector                 KNN  \n",
       "test_neg_RMSE   -8.765 (+/- 0.853)  -6.591 (+/- 0.325)  \n",
       "train_neg_RMSE  -8.618 (+/- 0.114)  -6.336 (+/- 0.109)  \n",
       "cv_r2            0.838 (+/- 0.014)   0.908 (+/- 0.011)  \n",
       "train_r2         0.844 (+/- 0.005)   0.915 (+/- 0.004)  \n",
       "cv_mape         -8.342 (+/- 1.337)  -5.643 (+/- 0.627)  \n",
       "train_mape      -8.136 (+/- 0.154)  -5.403 (+/- 0.134)  "
      ]
     },
     "execution_count": 11,
     "metadata": {},
     "output_type": "execute_result"
    }
   ],
   "source": [
    "pd.DataFrame(results).rename(\n",
    "    index={\"test_neg RMSE\": \"cv_neg_RMSE\", \"test_r2\": \"cv_r2\", \"test_mape\": \"cv_mape\"}\n",
    ").drop([\"fit_time\", \"score_time\"])"
   ]
  },
  {
   "cell_type": "markdown",
   "id": "86854beb-ce7f-487e-9e71-ad64145e99f1",
   "metadata": {},
   "source": [
    "## Hyperparameter Optimization"
   ]
  },
  {
   "cell_type": "markdown",
   "id": "0a8aae6c-6614-43d7-8783-73ac838bb03f",
   "metadata": {},
   "source": [
    "- Tune hyperparameter for Cat Boost Regression model.\n",
    "    - Interpretation of the results: We can see that the tuned model did not out-perform the original model with default hyperparameters. Therefore, we chose Cat Boost Regression with default hyperparameters as the final model for the prediction."
   ]
  },
  {
   "cell_type": "code",
   "execution_count": 12,
   "id": "753c38d6-e064-4c9f-99cd-3288fe4e94ef",
   "metadata": {},
   "outputs": [
    {
     "name": "stdout",
     "output_type": "stream",
     "text": [
      "Fitting 5 folds for each of 20 candidates, totalling 100 fits\n"
     ]
    }
   ],
   "source": [
    "import warnings\n",
    "\n",
    "warnings.filterwarnings(\"ignore\")\n",
    "\n",
    "cb_param_grid = {\n",
    "    \"catboostregressor__max_depth\": [-1, 10, 20, 40, 100, 500],\n",
    "    \"catboostregressor__n_estimators\": np.arange(2, 40) * 10,\n",
    "    \"catboostregressor__l2_leaf_reg\": np.arange(2, 20),\n",
    "}\n",
    "\n",
    "cb_rand = RandomizedSearchCV(\n",
    "    models[\"CatBoost\"],\n",
    "    cb_param_grid,\n",
    "    n_iter=20,\n",
    "    verbose=1,\n",
    "    n_jobs=-1,\n",
    "    random_state=123,\n",
    "    return_train_score=True,\n",
    ")\n",
    "cb_random_search = cb_rand.fit(X_train, y_train)"
   ]
  },
  {
   "cell_type": "code",
   "execution_count": 13,
   "id": "3637a6bf-ef70-411a-a5c4-417c317e5e78",
   "metadata": {},
   "outputs": [
    {
     "name": "stdout",
     "output_type": "stream",
     "text": [
      "Tuned hyper-params for CatBoost:\n",
      " {'catboostregressor__n_estimators': 370, 'catboostregressor__max_depth': 10, 'catboostregressor__l2_leaf_reg': 10}\n",
      "\n",
      "Training and validation scores of CatBoost with the tuned hyper-params:\n"
     ]
    },
    {
     "data": {
      "text/html": [
       "<div>\n",
       "<style scoped>\n",
       "    .dataframe tbody tr th:only-of-type {\n",
       "        vertical-align: middle;\n",
       "    }\n",
       "\n",
       "    .dataframe tbody tr th {\n",
       "        vertical-align: top;\n",
       "    }\n",
       "\n",
       "    .dataframe thead th {\n",
       "        text-align: right;\n",
       "    }\n",
       "</style>\n",
       "<table border=\"1\" class=\"dataframe\">\n",
       "  <thead>\n",
       "    <tr style=\"text-align: right;\">\n",
       "      <th></th>\n",
       "      <th>mean_train_score</th>\n",
       "      <th>mean cv score</th>\n",
       "    </tr>\n",
       "  </thead>\n",
       "  <tbody>\n",
       "    <tr>\n",
       "      <th>17</th>\n",
       "      <td>0.969481</td>\n",
       "      <td>0.954307</td>\n",
       "    </tr>\n",
       "  </tbody>\n",
       "</table>\n",
       "</div>"
      ],
      "text/plain": [
       "    mean_train_score  mean cv score\n",
       "17          0.969481       0.954307"
      ]
     },
     "execution_count": 13,
     "metadata": {},
     "output_type": "execute_result"
    }
   ],
   "source": [
    "print(\"Tuned hyper-params for CatBoost:\\n\", cb_random_search.best_params_)\n",
    "\n",
    "print(\"\\nTraining and validation scores of CatBoost with the tuned hyper-params:\")\n",
    "pd.DataFrame(cb_random_search.cv_results_)[\n",
    "    [\n",
    "        \"mean_train_score\",\n",
    "        \"mean_test_score\",\n",
    "        \"rank_test_score\",\n",
    "    ]\n",
    "].sort_values(by=[\"rank_test_score\"]).drop(\"rank_test_score\", axis=1).rename(\n",
    "    columns={\"mean_test_score\": \"mean cv score\"}\n",
    ").head(\n",
    "    1\n",
    ")"
   ]
  },
  {
   "cell_type": "markdown",
   "id": "70768501-fb90-4ad1-ba25-e2ba4c77b60e",
   "metadata": {},
   "source": [
    "## Feature Importance"
   ]
  },
  {
   "cell_type": "markdown",
   "id": "2d4125e3-3736-423a-be39-1a840ebe1b2b",
   "metadata": {},
   "source": [
    "- Use visualization tools to demonstrate feature importance.\n",
    "    - Interpretation of the 1st graph: The most important features seem to be `lat` and `tmax_winter`. \n",
    "    - Interpretation of the 2nd graph: For `lat`, it seems that lower `lat` values mostly have a positive impact on the bloom day. Locations with lower latitude tend to be warmer, leading early bloom dates. On the other hand, `tmax_winter` appears to have a negative impact on the bloom day. Locations with higher maximum winter temperature are more likely to have shorter `bloom_doy`, i.e. early bloom dates."
   ]
  },
  {
   "cell_type": "code",
   "execution_count": 14,
   "id": "b8f02a12-cc05-4aa7-8d8a-3f8c57aad9e1",
   "metadata": {},
   "outputs": [
    {
     "data": {
      "image/png": "[encoded data removed]",
      "text/plain": [
       "<Figure size 576x424.8 with 1 Axes>"
      ]
     },
     "metadata": {
      "needs_background": "light"
     },
     "output_type": "display_data"
    }
   ],
   "source": [
    "# Fit the preprocessor first\n",
    "preprocessor.fit(X_train, y_train)\n",
    "\n",
    "# Get all feature names\n",
    "feature_names = preprocessor.get_feature_names_out()\n",
    "\n",
    "# Create encoded train data\n",
    "X_train_enc = pd.DataFrame(\n",
    "    data=preprocessor.transform(X_train),\n",
    "    columns=feature_names,\n",
    "    index=X_train.index,\n",
    ")\n",
    "X_train_enc.head()\n",
    "\n",
    "# Fit regressor model using LGBMRegressor\n",
    "pipe_cb = make_pipeline(\n",
    "    preprocessor, CatBoostRegressor(verbose=0, random_state=123)\n",
    ")\n",
    "pipe_cb.fit(X_train, y_train)\n",
    "\n",
    "# Create feature importance visualization using shap\n",
    "explainer = shap.TreeExplainer(pipe_cb.named_steps[\"catboostregressor\"])\n",
    "train_shap_values = explainer.shap_values(X_train_enc)\n",
    "shap.summary_plot(train_shap_values, X_train_enc, plot_type=\"bar\")"
   ]
  },
  {
   "cell_type": "code",
   "execution_count": 15,
   "id": "8cd36980-1328-4427-a28f-2fdf90aca056",
   "metadata": {},
   "outputs": [
    {
     "data": {
      "image/png": "[encoded data removed]",
      "text/plain": [
       "<Figure size 576x424.8 with 2 Axes>"
      ]
     },
     "metadata": {
      "needs_background": "light"
     },
     "output_type": "display_data"
    }
   ],
   "source": [
    "shap.summary_plot(train_shap_values, X_train_enc)"
   ]
  },
  {
   "cell_type": "markdown",
   "id": "42260508-4702-4168-abc7-499a9d25b598",
   "metadata": {},
   "source": [
    "## Test"
   ]
  },
  {
   "cell_type": "markdown",
   "id": "d0cde72d-bd48-4b1e-ae6c-82b18b267c62",
   "metadata": {},
   "source": [
    "- Fit test data to the model."
   ]
  },
  {
   "cell_type": "code",
   "execution_count": 16,
   "id": "c89fe685-e651-4015-8151-4c8ed59f27ab",
   "metadata": {},
   "outputs": [
    {
     "data": {
      "text/html": [
       "<div>\n",
       "<style scoped>\n",
       "    .dataframe tbody tr th:only-of-type {\n",
       "        vertical-align: middle;\n",
       "    }\n",
       "\n",
       "    .dataframe tbody tr th {\n",
       "        vertical-align: top;\n",
       "    }\n",
       "\n",
       "    .dataframe thead th {\n",
       "        text-align: right;\n",
       "    }\n",
       "</style>\n",
       "<table border=\"1\" class=\"dataframe\">\n",
       "  <thead>\n",
       "    <tr style=\"text-align: right;\">\n",
       "      <th></th>\n",
       "      <th>best model-lgbm</th>\n",
       "    </tr>\n",
       "    <tr>\n",
       "      <th>metrics</th>\n",
       "      <th></th>\n",
       "    </tr>\n",
       "  </thead>\n",
       "  <tbody>\n",
       "    <tr>\n",
       "      <th>neg_RMSE</th>\n",
       "      <td>-3.768335</td>\n",
       "    </tr>\n",
       "    <tr>\n",
       "      <th>r2</th>\n",
       "      <td>0.972964</td>\n",
       "    </tr>\n",
       "    <tr>\n",
       "      <th>mape</th>\n",
       "      <td>3.200858</td>\n",
       "    </tr>\n",
       "  </tbody>\n",
       "</table>\n",
       "</div>"
      ],
      "text/plain": [
       "          best model-lgbm\n",
       "metrics                  \n",
       "neg_RMSE        -3.768335\n",
       "r2               0.972964\n",
       "mape             3.200858"
      ]
     },
     "execution_count": 16,
     "metadata": {},
     "output_type": "execute_result"
    }
   ],
   "source": [
    "# Predict on the test data and report scores\n",
    "y_pred = pipe_cb.predict(X_test)\n",
    "test_scores = {\"metrics\": list(scoring_metrics.keys()), \"best model-lgbm\": []}\n",
    "test_scores[\"best model-lgbm\"].append(\n",
    "    -1 * mean_squared_error(y_test, y_pred, squared=False)\n",
    ")\n",
    "test_scores[\"best model-lgbm\"].append(r2_score(y_test, y_pred))\n",
    "test_scores[\"best model-lgbm\"].append(mape(y_test, y_pred))\n",
    "pd.DataFrame(test_scores).set_index(\"metrics\")"
   ]
  },
  {
   "cell_type": "markdown",
   "id": "569840d1-7ba9-479d-810c-f4703bafe3ef",
   "metadata": {},
   "source": [
    "- Pick one data point from the test data to compare the observed value and the predicted value.\n",
    "    - Interpretation of the results: From the graph, we can see that the prediction is 94.10 while the true value is 92. Features such as `lat` (the red ones on the left) are pulling prediction upwards to higher values on the right while features like `tmax_witner`, `tmax`, and 'year' (the blue ones on the right) are pulling the prediction downwards to lower values on the left."
   ]
  },
  {
   "cell_type": "code",
   "execution_count": 17,
   "id": "9e160d60-8f92-4cf9-9b47-899152b26740",
   "metadata": {},
   "outputs": [],
   "source": [
    "# Create encoded test data\n",
    "X_test_enc = pd.DataFrame(\n",
    "    data=preprocessor.transform(X_test),\n",
    "    columns=feature_names,\n",
    "    index=X_test.index,\n",
    ")"
   ]
  },
  {
   "cell_type": "code",
   "execution_count": 18,
   "id": "06a34181-f68e-4dbc-9f8a-bff0f6c9736c",
   "metadata": {},
   "outputs": [
    {
     "data": {
      "image/png": "[encoded data removed]",
      "text/plain": [
       "<Figure size 1440x216 with 1 Axes>"
      ]
     },
     "metadata": {
      "needs_background": "light"
     },
     "output_type": "display_data"
    }
   ],
   "source": [
    "# We are only extracting shapely values for the first 5 test examples for speed.\n",
    "test_lgbm_shap_values = explainer.shap_values(X_test_enc[:5])\n",
    "\n",
    "# Round off feature values for better display\n",
    "X_train_enc = X_train_enc.round(3)\n",
    "X_test_enc = X_test_enc.round(3)\n",
    "\n",
    "# An example\n",
    "shap.force_plot(\n",
    "    explainer.expected_value,\n",
    "    test_lgbm_shap_values[4],\n",
    "    X_test_enc.iloc[4, :],\n",
    "    matplotlib=True,\n",
    ")"
   ]
  },
  {
   "cell_type": "code",
   "execution_count": 19,
   "id": "8dce472d-da76-496a-80b5-ac109f067df2",
   "metadata": {},
   "outputs": [
    {
     "name": "stdout",
     "output_type": "stream",
     "text": [
      "True popularity for case one: 92\n"
     ]
    }
   ],
   "source": [
    "print(\"True popularity for case one:\", y_test.iloc[4])"
   ]
  }
 ],
 "metadata": {
  "kernelspec": {
   "display_name": "Python [conda env:573]",
   "language": "python",
   "name": "conda-env-573-py"
  },
  "language_info": {
   "codemirror_mode": {
    "name": "ipython",
    "version": 3
   },
   "file_extension": ".py",
   "mimetype": "text/x-python",
   "name": "python",
   "nbconvert_exporter": "python",
   "pygments_lexer": "ipython3",
   "version": "3.9.7"
  }
 },
 "nbformat": 4,
 "nbformat_minor": 5
}
