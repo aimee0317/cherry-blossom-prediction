{
 "cells": [
  {
   "cell_type": "code",
   "execution_count": 1,
   "id": "5f716eea-f001-4da7-84a1-c2dc9130df3d",
   "metadata": {},
   "outputs": [
    {
     "name": "stderr",
     "output_type": "stream",
     "text": [
      "Warning message:\n",
      "\"package 'rnoaa' was built under R version 4.1.2\"\n",
      "Registered S3 method overwritten by 'httr':\n",
      "  method           from  \n",
      "  print.cache_info hoardr\n",
      "\n",
      "-- \u001b[1mAttaching packages\u001b[22m ------------------------------------------------------------------------------- tidyverse 1.3.1 --\n",
      "\n",
      "\u001b[32mv\u001b[39m \u001b[34mggplot2\u001b[39m 3.3.5     \u001b[32mv\u001b[39m \u001b[34mpurrr  \u001b[39m 0.3.4\n",
      "\u001b[32mv\u001b[39m \u001b[34mtibble \u001b[39m 3.1.6     \u001b[32mv\u001b[39m \u001b[34mdplyr  \u001b[39m 1.0.7\n",
      "\u001b[32mv\u001b[39m \u001b[34mtidyr  \u001b[39m 1.2.0     \u001b[32mv\u001b[39m \u001b[34mstringr\u001b[39m 1.4.0\n",
      "\u001b[32mv\u001b[39m \u001b[34mreadr  \u001b[39m 2.0.2     \u001b[32mv\u001b[39m \u001b[34mforcats\u001b[39m 0.5.1\n",
      "\n",
      "Warning message:\n",
      "\"package 'tibble' was built under R version 4.1.2\"\n",
      "Warning message:\n",
      "\"package 'tidyr' was built under R version 4.1.2\"\n",
      "-- \u001b[1mConflicts\u001b[22m ---------------------------------------------------------------------------------- tidyverse_conflicts() --\n",
      "\u001b[31mx\u001b[39m \u001b[34mdplyr\u001b[39m::\u001b[32mfilter()\u001b[39m masks \u001b[34mstats\u001b[39m::filter()\n",
      "\u001b[31mx\u001b[39m \u001b[34mdplyr\u001b[39m::\u001b[32mlag()\u001b[39m    masks \u001b[34mstats\u001b[39m::lag()\n",
      "\n",
      "\n",
      "Attaching package: 'lubridate'\n",
      "\n",
      "\n",
      "The following objects are masked from 'package:base':\n",
      "\n",
      "    date, intersect, setdiff, union\n",
      "\n",
      "\n",
      "\n",
      "Attaching package: 'rlang'\n",
      "\n",
      "\n",
      "The following objects are masked from 'package:purrr':\n",
      "\n",
      "    %@%, as_function, flatten, flatten_chr, flatten_dbl, flatten_int,\n",
      "    flatten_lgl, flatten_raw, invoke, list_along, modify, prepend,\n",
      "    splice\n",
      "\n",
      "\n"
     ]
    }
   ],
   "source": [
    "library(rnoaa)\n",
    "library(tidyverse)\n",
    "library(lubridate)\n",
    "library(rlang)\n",
    "library(stringr)"
   ]
  },
  {
   "cell_type": "code",
   "execution_count": 2,
   "id": "5e26257f-72fc-4c42-a4f3-d0503ac9e4b5",
   "metadata": {},
   "outputs": [
    {
     "name": "stderr",
     "output_type": "stream",
     "text": [
      "using cached file: C:\\Users\\Maoli\\AppData\\Local/Cache/R/noaa_ghcnd/ghcnd-stations.rds\n",
      "\n",
      "date created (size, mb): 2022-02-12 20:25:20 (2.159)\n",
      "\n",
      "using cached file: C:\\Users\\Maoli\\AppData\\Local/Cache/R/noaa_ghcnd/ghcnd-inventory.rds\n",
      "\n",
      "date created (size, mb): 2022-02-12 20:26:28 (2.669)\n",
      "\n"
     ]
    }
   ],
   "source": [
    "stations <- ghcnd_stations()"
   ]
  },
  {
   "cell_type": "code",
   "execution_count": 77,
   "id": "b1ee7941-97db-4fa6-85b2-68fe0b35cf70",
   "metadata": {},
   "outputs": [],
   "source": [
    "# check climate var we can use for a specific station(city)\n",
    "\n",
    "names(ghcnd_search(stationid = \"USC00186350\", date_min = \"1950-01-01\", date_max = \"2022-01-31\"))\n",
    "names(ghcnd_search(stationid = \"GME00127786\", date_min = \"1950-01-01\", date_max = \"2022-01-31\"))\n",
    "names(ghcnd_search(stationid = \"JA000047759\", date_min = \"1950-01-01\", date_max = \"2022-01-31\"))\n",
    "names(ghcnd_search(stationid = \"CA001108395\", date_min = \"1950-01-01\", date_max = \"2022-01-31\"))"
   ]
  },
  {
   "cell_type": "code",
   "execution_count": 5,
   "id": "f65f9113-e63c-4d52-a737-e153ab85c733",
   "metadata": {},
   "outputs": [],
   "source": [
    "# load df. don't change df names as they will be used as input of function\n",
    "\n",
    "japan <- read.csv(\"../data/raw/japan.csv\")\n",
    "kyoto <- read.csv(\"../data/raw/kyoto.csv\")\n",
    "liestal <- read.csv(\"../data/raw/liestal.csv\")\n",
    "washingtondc <- read.csv(\"../data/raw/washingtondc.csv\")\n",
    "\n",
    "kyoto<- kyoto|> \n",
    "  mutate(year = strtoi(substr(year, 1, 4)))\n",
    "meteoswiss <- read.csv(\"../data/raw/meteoswiss.csv\")\n",
    "south_korea <- read.csv(\"../data/raw/south_korea.csv\")"
   ]
  },
  {
   "cell_type": "code",
   "execution_count": null,
   "id": "195d9b26-aa79-412c-8f61-8701993824e8",
   "metadata": {},
   "outputs": [],
   "source": [
    "# retrieve climate parameter by city and month\n",
    "\n",
    "retrieve_climate <- function(stationid, para, month_list = seq(1, 12)){\n",
    "    para <- enquo(para)\n",
    "    df <- ghcnd_search(stationid = stationid, date_min = \"1950-01-01\", date_max = \"2022-01-31\")[[as_name(para)]]\n",
    "    result <- df |> \n",
    "      mutate(year = year(date),\n",
    "             month = month(date),\n",
    "             !!para := !!para / 10) |> \n",
    "    filter(month %in% month_list) |> \n",
    "    drop_na() |> \n",
    "    group_by(year) |>\n",
    "    summarise(!!para := mean(!!para, na.rm = TRUE))\n",
    "}"
   ]
  },
  {
   "cell_type": "code",
   "execution_count": null,
   "id": "459bb25c-15d4-4e3b-b522-de22c64e0244",
   "metadata": {},
   "outputs": [],
   "source": [
    "# join the climate and bloom df together and plot\n",
    "# create month list for further use\n",
    "\n",
    "month = c(\"Jan\", \"Feb\", \"Mar\", \"Apr\", \"May\", \"Jun\", \"Jul\", \"Aug\", \"Sep\", \"Oct\", \"Nov\", \"Dec\")\n",
    "\n",
    "plot_ts_bday_climate <- function(stationid, city_df, para, month_list = seq(1, 12)) {\n",
    "    # environment(retrieve_climate) <-  environment()\n",
    "    para <- enquo(para)\n",
    "    df <- retrieve_climate(stationid, !!para, month_list)\n",
    "    city_cli <- merge(city_df, df, by = \"year\")\n",
    "    a <- \"\"\n",
    "    for (num in month_list){\n",
    "        a <- paste(a, month[num], sep = \" \")\n",
    "    }\n",
    "    out <- city_cli |> \n",
    "          ggplot(aes(x = year)) +\n",
    "          geom_line(aes(y = bloom_doy), color = \"blue\") +\n",
    "          geom_line(aes(y = !!para / 0.25), color = \"red\") +\n",
    "          scale_y_continuous(\n",
    "            name = \"Bloom Day\",\n",
    "            sec.axis = sec_axis(~. * 0.25, name = paste(\"Climate parameter:\", as_name(para), sep = \" \"))\n",
    "          ) +\n",
    "          labs(title = paste(\"Time series of bloom day and climate variable of month:\\n\", a, sep = \"\"), \n",
    "               x = \"Year\") +\n",
    "          theme(\n",
    "            axis.title.y = element_text(color = \"blue\", size = 20),\n",
    "            axis.title.y.right = element_text(color = \"red\", size = 20),\n",
    "            axis.title.x = element_text(size = 20)\n",
    "          )\n",
    "    out\n",
    "}"
   ]
  },
  {
   "cell_type": "code",
   "execution_count": null,
   "id": "741f2848-3096-4e7a-929b-41c3bcbe5cac",
   "metadata": {},
   "outputs": [],
   "source": [
    "plot_ts_bday_climate(\"JA000047759\", kyoto, tmin)"
   ]
  },
  {
   "cell_type": "code",
   "execution_count": null,
   "id": "77e916ad-5656-44c7-81cc-bc3355c504a9",
   "metadata": {},
   "outputs": [],
   "source": []
  }
 ],
 "metadata": {
  "kernelspec": {
   "display_name": "R",
   "language": "R",
   "name": "ir"
  },
  "language_info": {
   "codemirror_mode": "r",
   "file_extension": ".r",
   "mimetype": "text/x-r-source",
   "name": "R",
   "pygments_lexer": "r",
   "version": "4.1.1"
  }
 },
 "nbformat": 4,
 "nbformat_minor": 5
}
