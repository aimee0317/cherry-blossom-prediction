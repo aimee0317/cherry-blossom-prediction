{
 "cells": [
  {
   "cell_type": "code",
   "execution_count": 1,
   "id": "7e6d6183-1cc3-4418-a7a1-c0f7dc56468e",
   "metadata": {},
   "outputs": [
    {
     "name": "stderr",
     "output_type": "stream",
     "text": [
      "-- \u001b[1mAttaching packages\u001b[22m ------------------------------------------------------------------------------- tidyverse 1.3.1 --\n",
      "\n",
      "\u001b[32mv\u001b[39m \u001b[34mggplot2\u001b[39m 3.3.5     \u001b[32mv\u001b[39m \u001b[34mpurrr  \u001b[39m 0.3.4\n",
      "\u001b[32mv\u001b[39m \u001b[34mtibble \u001b[39m 3.1.6     \u001b[32mv\u001b[39m \u001b[34mdplyr  \u001b[39m 1.0.7\n",
      "\u001b[32mv\u001b[39m \u001b[34mtidyr  \u001b[39m 1.2.0     \u001b[32mv\u001b[39m \u001b[34mstringr\u001b[39m 1.4.0\n",
      "\u001b[32mv\u001b[39m \u001b[34mreadr  \u001b[39m 2.0.2     \u001b[32mv\u001b[39m \u001b[34mforcats\u001b[39m 0.5.1\n",
      "\n",
      "Warning message:\n",
      "\"package 'tibble' was built under R version 4.1.2\"\n",
      "Warning message:\n",
      "\"package 'tidyr' was built under R version 4.1.2\"\n",
      "-- \u001b[1mConflicts\u001b[22m ---------------------------------------------------------------------------------- tidyverse_conflicts() --\n",
      "\u001b[31mx\u001b[39m \u001b[34mdplyr\u001b[39m::\u001b[32mfilter()\u001b[39m masks \u001b[34mstats\u001b[39m::filter()\n",
      "\u001b[31mx\u001b[39m \u001b[34mdplyr\u001b[39m::\u001b[32mlag()\u001b[39m    masks \u001b[34mstats\u001b[39m::lag()\n",
      "\n",
      "Warning message:\n",
      "\"package 'forecast' was built under R version 4.1.2\"\n",
      "Registered S3 method overwritten by 'quantmod':\n",
      "  method            from\n",
      "  as.zoo.data.frame zoo \n",
      "\n"
     ]
    }
   ],
   "source": [
    "library(tidyverse)\n",
    "library(forecast)"
   ]
  },
  {
   "cell_type": "code",
   "execution_count": 27,
   "id": "d8026c2e-722f-46b8-a0c1-b36fdecc4599",
   "metadata": {},
   "outputs": [],
   "source": [
    "df <- read.csv(\"../data/processed/clean.csv\")"
   ]
  },
  {
   "cell_type": "code",
   "execution_count": 39,
   "id": "c293dd0a-c185-4d1b-848a-56242627f441",
   "metadata": {},
   "outputs": [
    {
     "data": {
      "text/plain": [
       "      id              location           country              city          \n",
       " Length:6182        Length:6182        Length:6182        Length:6182       \n",
       " Class :character   Class :character   Class :character   Class :character  \n",
       " Mode  :character   Mode  :character   Mode  :character   Mode  :character  \n",
       "                                                                            \n",
       "                                                                            \n",
       "                                                                            \n",
       "                                                                            \n",
       "      lat             long             alt              year     \n",
       " Min.   :24.34   Min.   :-77.04   Min.   :   0.0   Min.   :1950  \n",
       " 1st Qu.:34.34   1st Qu.:130.98   1st Qu.:   5.7   1st Qu.:1972  \n",
       " Median :35.54   Median :136.19   Median :  26.5   Median :1987  \n",
       " Mean   :36.84   Mean   :126.61   Mean   :  77.2   Mean   :1987  \n",
       " 3rd Qu.:39.70   3rd Qu.:140.10   3rd Qu.:  51.1   3rd Qu.:2002  \n",
       " Max.   :47.57   Max.   :145.59   Max.   :1390.0   Max.   :2021  \n",
       "                                                                 \n",
       "  bloom_date          bloom_doy          tmax             tmin       \n",
       " Length:6182        Min.   :  8.0   Min.   :-1.231   Min.   :-6.892  \n",
       " Class :character   1st Qu.: 93.0   1st Qu.:15.181   1st Qu.: 6.601  \n",
       " Mode  :character   Median : 99.0   Median :19.071   Median :10.235  \n",
       "                    Mean   :100.9   Mean   :17.957   Mean   : 9.665  \n",
       "                    3rd Qu.:110.0   3rd Qu.:20.593   3rd Qu.:12.037  \n",
       "                    Max.   :160.0   Max.   :32.300   Max.   :26.500  \n",
       "                                    NA's   :544      NA's   :529     \n",
       "      prcp          agdd_winter      tmax_winter      tmin_winter      \n",
       " Min.   :  0.300   Min.   :   0.0   Min.   :-5.361   Min.   :-19.2316  \n",
       " 1st Qu.:  3.403   1st Qu.: 110.7   1st Qu.: 4.226   1st Qu.: -3.1965  \n",
       " Median :  4.649   Median : 280.3   Median : 8.774   Median :  0.3411  \n",
       " Mean   :  6.210   Mean   : 320.8   Mean   : 7.800   Mean   : -0.2942  \n",
       " 3rd Qu.:  6.927   3rd Qu.: 462.9   3rd Qu.:10.871   3rd Qu.:  2.2145  \n",
       " Max.   :122.900   Max.   :1713.3   Max.   :24.032   Max.   : 18.4540  \n",
       " NA's   :530       NA's   :640      NA's   :648      NA's   :648       \n",
       "  prcp_winter     co2_percapita     co2_emission      \n",
       " Min.   :  0.00   Min.   : 1.238   Min.   :1.023e+07  \n",
       " 1st Qu.: 16.30   1st Qu.: 5.866   1st Qu.:3.865e+08  \n",
       " Median : 26.37   Median : 7.980   Median :9.143e+08  \n",
       " Mean   : 36.59   Mean   : 7.487   Mean   :8.678e+08  \n",
       " 3rd Qu.: 47.28   3rd Qu.: 9.587   3rd Qu.:1.223e+09  \n",
       " Max.   :525.25   Max.   :22.236   Max.   :6.135e+09  \n",
       " NA's   :648      NA's   :65       NA's   :65         "
      ]
     },
     "metadata": {},
     "output_type": "display_data"
    }
   ],
   "source": [
    "df |> filter (year >= 1950) |> summary()"
   ]
  },
  {
   "cell_type": "code",
   "execution_count": null,
   "id": "2c8221f3-a0c1-467d-8d14-65ef9b5952b8",
   "metadata": {},
   "outputs": [],
   "source": []
  },
  {
   "cell_type": "code",
   "execution_count": 5,
   "id": "2365c58f-4a29-4ced-875c-792cbf893ca5",
   "metadata": {},
   "outputs": [],
   "source": [
    "df_kyoto <- df |> \n",
    "  filter(city == \"Kyoto\") |> \n",
    "  filter(alt == 44)\n",
    "\n",
    "df_liestal <- df |> \n",
    "  filter(city == \"Liestal\")"
   ]
  },
  {
   "cell_type": "code",
   "execution_count": 8,
   "id": "a629e4f7-648b-4e15-83c3-4d3917b3b917",
   "metadata": {},
   "outputs": [],
   "source": [
    "# separate train test manually by year\n",
    "\n",
    "train_kyoto <- df_kyoto |> \n",
    "  filter(year < 2015) |> \n",
    "  arrange(year) |> \n",
    "  select(bloom_doy)\n",
    "\n",
    "test_kyoto <- df_kyoto |> \n",
    "  filter(year >= 2015) |> \n",
    "  arrange(year)\n",
    "\n",
    "train_liestal <- df_liestal |> \n",
    "  filter(year < 2015) |> \n",
    "  arrange(year) |> \n",
    "  select(bloom_doy)\n",
    "\n",
    "test_liestal <- df_liestal |> \n",
    "  filter(year >= 2015) |> \n",
    "  arrange(year, bloom_doy)\n",
    "\n"
   ]
  },
  {
   "cell_type": "code",
   "execution_count": 10,
   "id": "1516bd48-ae58-4fba-9349-c1703971525f",
   "metadata": {},
   "outputs": [
    {
     "data": {
      "image/png": "[encoded data removed]",
      "text/plain": [
       "plot without title"
      ]
     },
     "metadata": {
      "image/png": {
       "height": 420,
       "width": 420
      }
     },
     "output_type": "display_data"
    }
   ],
   "source": [
    "train_kyoto_ts <- ts(train_kyoto, frequency = 1)\n",
    "train_liestal_ts <- ts(train_liestal, frequency = 1)\n",
    "plot(train_liestal_ts)"
   ]
  },
  {
   "cell_type": "code",
   "execution_count": 12,
   "id": "f03e00d8-df78-42c0-a26e-ca0861622d94",
   "metadata": {},
   "outputs": [],
   "source": [
    "model_arima_liestal <- auto.arima(train_liestal_ts)\n",
    "model_arima_kyoto <- auto.arima(train_kyoto_ts)"
   ]
  },
  {
   "cell_type": "code",
   "execution_count": 13,
   "id": "2551fb3d-8a92-417f-8592-45a03aac718c",
   "metadata": {},
   "outputs": [
    {
     "data": {
      "text/plain": [
       "Series: train_liestal_ts \n",
       "ARIMA(0,1,1) \n",
       "\n",
       "Coefficients:\n",
       "          ma1\n",
       "      -0.9172\n",
       "s.e.   0.0369\n",
       "\n",
       "sigma^2 = 108.6:  log likelihood = -451.95\n",
       "AIC=907.89   AICc=908   BIC=913.47\n",
       "\n",
       "Training set error measures:\n",
       "                     ME     RMSE      MAE       MPE     MAPE      MASE\n",
       "Training set -0.8704821 10.33426 8.102987 -1.931857 8.291846 0.7445317\n",
       "                   ACF1\n",
       "Training set 0.05486383"
      ]
     },
     "metadata": {},
     "output_type": "display_data"
    }
   ],
   "source": [
    "summary(model_arima_liestal)"
   ]
  },
  {
   "cell_type": "code",
   "execution_count": 14,
   "id": "ce912096-34a9-4d5c-a4f6-518e8b4bb9c4",
   "metadata": {},
   "outputs": [],
   "source": [
    "pred <- forecast(model_arima_liestal, h=7)"
   ]
  },
  {
   "cell_type": "code",
   "execution_count": 15,
   "id": "af9b3335-7348-48b0-a039-e60eaaf7593f",
   "metadata": {},
   "outputs": [
    {
     "data": {
      "text/plain": [
       "    Point Forecast    Lo 80    Hi 80    Lo 95    Hi 95\n",
       "122       94.96042 81.60570 108.3151 74.53614 115.3847\n",
       "123       94.96042 81.56005 108.3608 74.46633 115.4545\n",
       "124       94.96042 81.51456 108.4063 74.39675 115.5241\n",
       "125       94.96042 81.46922 108.4516 74.32741 115.5934\n",
       "126       94.96042 81.42403 108.4968 74.25830 115.6625\n",
       "127       94.96042 81.37900 108.5418 74.18943 115.7314\n",
       "128       94.96042 81.33411 108.5867 74.12078 115.8001"
      ]
     },
     "metadata": {},
     "output_type": "display_data"
    }
   ],
   "source": [
    "pred"
   ]
  },
  {
   "cell_type": "code",
   "execution_count": 64,
   "id": "bc215986-245e-4ff6-aa05-779928d0dca8",
   "metadata": {},
   "outputs": [
    {
     "data": {
      "text/html": [
       "<table class=\"dataframe\">\n",
       "<caption>A data.frame: 7 × 19</caption>\n",
       "<thead>\n",
       "\t<tr><th scope=col>id</th><th scope=col>location</th><th scope=col>country</th><th scope=col>city</th><th scope=col>lat</th><th scope=col>long</th><th scope=col>alt</th><th scope=col>year</th><th scope=col>bloom_date</th><th scope=col>bloom_doy</th><th scope=col>tmax</th><th scope=col>tmin</th><th scope=col>prcp</th><th scope=col>agdd_winter</th><th scope=col>tmax_winter</th><th scope=col>tmin_winter</th><th scope=col>prcp_winter</th><th scope=col>co2_percapita</th><th scope=col>co2_emission</th></tr>\n",
       "\t<tr><th scope=col>&lt;chr&gt;</th><th scope=col>&lt;chr&gt;</th><th scope=col>&lt;chr&gt;</th><th scope=col>&lt;chr&gt;</th><th scope=col>&lt;dbl&gt;</th><th scope=col>&lt;dbl&gt;</th><th scope=col>&lt;dbl&gt;</th><th scope=col>&lt;int&gt;</th><th scope=col>&lt;chr&gt;</th><th scope=col>&lt;int&gt;</th><th scope=col>&lt;dbl&gt;</th><th scope=col>&lt;dbl&gt;</th><th scope=col>&lt;dbl&gt;</th><th scope=col>&lt;dbl&gt;</th><th scope=col>&lt;dbl&gt;</th><th scope=col>&lt;dbl&gt;</th><th scope=col>&lt;dbl&gt;</th><th scope=col>&lt;dbl&gt;</th><th scope=col>&lt;dbl&gt;</th></tr>\n",
       "</thead>\n",
       "<tbody>\n",
       "\t<tr><td>JA000047759</td><td>Japan/Kyoto</td><td>Japan</td><td>Kyoto</td><td>35.01198</td><td>135.6761</td><td>44</td><td>2015</td><td>2015-04-03</td><td>93</td><td>21.44385</td><td>12.59741</td><td>5.566209</td><td>238.35</td><td> 9.18318</td><td>1.3602564</td><td>28.63594</td><td>9.5589</td><td>1223396445</td></tr>\n",
       "\t<tr><td>JA000047759</td><td>Japan/Kyoto</td><td>Japan</td><td>Kyoto</td><td>35.01198</td><td>135.6761</td><td>44</td><td>2016</td><td>2016-04-04</td><td>95</td><td>22.24157</td><td>12.65389</td><td>5.046429</td><td>319.60</td><td>11.59595</td><td>2.6403711</td><td>30.19587</td><td>9.4215</td><td>1203717880</td></tr>\n",
       "\t<tr><td>JA000047759</td><td>Japan/Kyoto</td><td>Japan</td><td>Kyoto</td><td>35.01198</td><td>135.6761</td><td>44</td><td>2017</td><td>2017-04-09</td><td>99</td><td>20.91285</td><td>11.71786</td><td>3.837466</td><td>292.95</td><td>10.42070</td><td>1.9814530</td><td>21.24693</td><td>9.3184</td><td>1188122842</td></tr>\n",
       "\t<tr><td>JA000047759</td><td>Japan/Kyoto</td><td>Japan</td><td>Kyoto</td><td>35.01198</td><td>135.6761</td><td>44</td><td>2018</td><td>2018-03-30</td><td>89</td><td>21.87450</td><td>12.58351</td><td>4.839612</td><td>242.25</td><td> 9.06298</td><td>0.5109806</td><td>10.87327</td><td>8.9893</td><td>1143457876</td></tr>\n",
       "\t<tr><td>JA000047759</td><td>Japan/Kyoto</td><td>Japan</td><td>Kyoto</td><td>35.01198</td><td>135.6761</td><td>44</td><td>2019</td><td>2019-04-05</td><td>95</td><td>21.68782</td><td>12.93538</td><td>3.734444</td><td>270.05</td><td>10.76216</td><td>2.5435574</td><td>13.22773</td><td>8.7177</td><td>1105929335</td></tr>\n",
       "\t<tr><td>JA000047759</td><td>Japan/Kyoto</td><td>Japan</td><td>Kyoto</td><td>35.01198</td><td>135.6761</td><td>44</td><td>2020</td><td>2020-04-01</td><td>92</td><td>22.13423</td><td>13.45000</td><td>4.700639</td><td>337.85</td><td>11.66057</td><td>3.4481209</td><td>17.63576</td><td>8.1499</td><td>1030775384</td></tr>\n",
       "\t<tr><td>JA000047759</td><td>Japan/Kyoto</td><td>Japan</td><td>Kyoto</td><td>35.01198</td><td>135.6761</td><td>44</td><td>2021</td><td>2021-03-26</td><td>85</td><td>22.26696</td><td>13.01016</td><td>5.623907</td><td>219.65</td><td>11.31853</td><td>1.9707576</td><td>17.73449</td><td>    NA</td><td>        NA</td></tr>\n",
       "</tbody>\n",
       "</table>\n"
      ],
      "text/latex": [
       "A data.frame: 7 × 19\n",
       "\\begin{tabular}{lllllllllllllllllll}\n",
       " id & location & country & city & lat & long & alt & year & bloom\\_date & bloom\\_doy & tmax & tmin & prcp & agdd\\_winter & tmax\\_winter & tmin\\_winter & prcp\\_winter & co2\\_percapita & co2\\_emission\\\\\n",
       " <chr> & <chr> & <chr> & <chr> & <dbl> & <dbl> & <dbl> & <int> & <chr> & <int> & <dbl> & <dbl> & <dbl> & <dbl> & <dbl> & <dbl> & <dbl> & <dbl> & <dbl>\\\\\n",
       "\\hline\n",
       "\t JA000047759 & Japan/Kyoto & Japan & Kyoto & 35.01198 & 135.6761 & 44 & 2015 & 2015-04-03 & 93 & 21.44385 & 12.59741 & 5.566209 & 238.35 &  9.18318 & 1.3602564 & 28.63594 & 9.5589 & 1223396445\\\\\n",
       "\t JA000047759 & Japan/Kyoto & Japan & Kyoto & 35.01198 & 135.6761 & 44 & 2016 & 2016-04-04 & 95 & 22.24157 & 12.65389 & 5.046429 & 319.60 & 11.59595 & 2.6403711 & 30.19587 & 9.4215 & 1203717880\\\\\n",
       "\t JA000047759 & Japan/Kyoto & Japan & Kyoto & 35.01198 & 135.6761 & 44 & 2017 & 2017-04-09 & 99 & 20.91285 & 11.71786 & 3.837466 & 292.95 & 10.42070 & 1.9814530 & 21.24693 & 9.3184 & 1188122842\\\\\n",
       "\t JA000047759 & Japan/Kyoto & Japan & Kyoto & 35.01198 & 135.6761 & 44 & 2018 & 2018-03-30 & 89 & 21.87450 & 12.58351 & 4.839612 & 242.25 &  9.06298 & 0.5109806 & 10.87327 & 8.9893 & 1143457876\\\\\n",
       "\t JA000047759 & Japan/Kyoto & Japan & Kyoto & 35.01198 & 135.6761 & 44 & 2019 & 2019-04-05 & 95 & 21.68782 & 12.93538 & 3.734444 & 270.05 & 10.76216 & 2.5435574 & 13.22773 & 8.7177 & 1105929335\\\\\n",
       "\t JA000047759 & Japan/Kyoto & Japan & Kyoto & 35.01198 & 135.6761 & 44 & 2020 & 2020-04-01 & 92 & 22.13423 & 13.45000 & 4.700639 & 337.85 & 11.66057 & 3.4481209 & 17.63576 & 8.1499 & 1030775384\\\\\n",
       "\t JA000047759 & Japan/Kyoto & Japan & Kyoto & 35.01198 & 135.6761 & 44 & 2021 & 2021-03-26 & 85 & 22.26696 & 13.01016 & 5.623907 & 219.65 & 11.31853 & 1.9707576 & 17.73449 &     NA &         NA\\\\\n",
       "\\end{tabular}\n"
      ],
      "text/markdown": [
       "\n",
       "A data.frame: 7 × 19\n",
       "\n",
       "| id &lt;chr&gt; | location &lt;chr&gt; | country &lt;chr&gt; | city &lt;chr&gt; | lat &lt;dbl&gt; | long &lt;dbl&gt; | alt &lt;dbl&gt; | year &lt;int&gt; | bloom_date &lt;chr&gt; | bloom_doy &lt;int&gt; | tmax &lt;dbl&gt; | tmin &lt;dbl&gt; | prcp &lt;dbl&gt; | agdd_winter &lt;dbl&gt; | tmax_winter &lt;dbl&gt; | tmin_winter &lt;dbl&gt; | prcp_winter &lt;dbl&gt; | co2_percapita &lt;dbl&gt; | co2_emission &lt;dbl&gt; |\n",
       "|---|---|---|---|---|---|---|---|---|---|---|---|---|---|---|---|---|---|---|\n",
       "| JA000047759 | Japan/Kyoto | Japan | Kyoto | 35.01198 | 135.6761 | 44 | 2015 | 2015-04-03 | 93 | 21.44385 | 12.59741 | 5.566209 | 238.35 |  9.18318 | 1.3602564 | 28.63594 | 9.5589 | 1223396445 |\n",
       "| JA000047759 | Japan/Kyoto | Japan | Kyoto | 35.01198 | 135.6761 | 44 | 2016 | 2016-04-04 | 95 | 22.24157 | 12.65389 | 5.046429 | 319.60 | 11.59595 | 2.6403711 | 30.19587 | 9.4215 | 1203717880 |\n",
       "| JA000047759 | Japan/Kyoto | Japan | Kyoto | 35.01198 | 135.6761 | 44 | 2017 | 2017-04-09 | 99 | 20.91285 | 11.71786 | 3.837466 | 292.95 | 10.42070 | 1.9814530 | 21.24693 | 9.3184 | 1188122842 |\n",
       "| JA000047759 | Japan/Kyoto | Japan | Kyoto | 35.01198 | 135.6761 | 44 | 2018 | 2018-03-30 | 89 | 21.87450 | 12.58351 | 4.839612 | 242.25 |  9.06298 | 0.5109806 | 10.87327 | 8.9893 | 1143457876 |\n",
       "| JA000047759 | Japan/Kyoto | Japan | Kyoto | 35.01198 | 135.6761 | 44 | 2019 | 2019-04-05 | 95 | 21.68782 | 12.93538 | 3.734444 | 270.05 | 10.76216 | 2.5435574 | 13.22773 | 8.7177 | 1105929335 |\n",
       "| JA000047759 | Japan/Kyoto | Japan | Kyoto | 35.01198 | 135.6761 | 44 | 2020 | 2020-04-01 | 92 | 22.13423 | 13.45000 | 4.700639 | 337.85 | 11.66057 | 3.4481209 | 17.63576 | 8.1499 | 1030775384 |\n",
       "| JA000047759 | Japan/Kyoto | Japan | Kyoto | 35.01198 | 135.6761 | 44 | 2021 | 2021-03-26 | 85 | 22.26696 | 13.01016 | 5.623907 | 219.65 | 11.31853 | 1.9707576 | 17.73449 |     NA |         NA |\n",
       "\n"
      ],
      "text/plain": [
       "  id          location    country city  lat      long     alt year bloom_date\n",
       "1 JA000047759 Japan/Kyoto Japan   Kyoto 35.01198 135.6761 44  2015 2015-04-03\n",
       "2 JA000047759 Japan/Kyoto Japan   Kyoto 35.01198 135.6761 44  2016 2016-04-04\n",
       "3 JA000047759 Japan/Kyoto Japan   Kyoto 35.01198 135.6761 44  2017 2017-04-09\n",
       "4 JA000047759 Japan/Kyoto Japan   Kyoto 35.01198 135.6761 44  2018 2018-03-30\n",
       "5 JA000047759 Japan/Kyoto Japan   Kyoto 35.01198 135.6761 44  2019 2019-04-05\n",
       "6 JA000047759 Japan/Kyoto Japan   Kyoto 35.01198 135.6761 44  2020 2020-04-01\n",
       "7 JA000047759 Japan/Kyoto Japan   Kyoto 35.01198 135.6761 44  2021 2021-03-26\n",
       "  bloom_doy tmax     tmin     prcp     agdd_winter tmax_winter tmin_winter\n",
       "1 93        21.44385 12.59741 5.566209 238.35       9.18318    1.3602564  \n",
       "2 95        22.24157 12.65389 5.046429 319.60      11.59595    2.6403711  \n",
       "3 99        20.91285 11.71786 3.837466 292.95      10.42070    1.9814530  \n",
       "4 89        21.87450 12.58351 4.839612 242.25       9.06298    0.5109806  \n",
       "5 95        21.68782 12.93538 3.734444 270.05      10.76216    2.5435574  \n",
       "6 92        22.13423 13.45000 4.700639 337.85      11.66057    3.4481209  \n",
       "7 85        22.26696 13.01016 5.623907 219.65      11.31853    1.9707576  \n",
       "  prcp_winter co2_percapita co2_emission\n",
       "1 28.63594    9.5589        1223396445  \n",
       "2 30.19587    9.4215        1203717880  \n",
       "3 21.24693    9.3184        1188122842  \n",
       "4 10.87327    8.9893        1143457876  \n",
       "5 13.22773    8.7177        1105929335  \n",
       "6 17.63576    8.1499        1030775384  \n",
       "7 17.73449        NA                NA  "
      ]
     },
     "metadata": {},
     "output_type": "display_data"
    }
   ],
   "source": [
    "test_kyoto"
   ]
  },
  {
   "cell_type": "code",
   "execution_count": 16,
   "id": "1d75db1f-0b7e-4a06-9cfc-b90be3cbce04",
   "metadata": {},
   "outputs": [
    {
     "name": "stderr",
     "output_type": "stream",
     "text": [
      "Warning message:\n",
      "\"package 'fpp2' was built under R version 4.1.2\"\n",
      "-- \u001b[1mAttaching packages\u001b[22m -------------------------------------------------------------------------------------- fpp2 2.4 --\n",
      "\n",
      "\u001b[32mv\u001b[39m \u001b[34mfma      \u001b[39m 2.4     \u001b[32mv\u001b[39m \u001b[34mexpsmooth\u001b[39m 2.3\n",
      "\n",
      "Warning message:\n",
      "\"package 'fma' was built under R version 4.1.2\"\n",
      "Warning message:\n",
      "\"package 'expsmooth' was built under R version 4.1.2\"\n",
      "\n",
      "\n"
     ]
    }
   ],
   "source": [
    "library(fpp2)"
   ]
  },
  {
   "cell_type": "code",
   "execution_count": 25,
   "id": "adb2e1cd-f187-4499-85f7-6fe812d8f7f2",
   "metadata": {},
   "outputs": [
    {
     "data": {
      "image/png": "[encoded data removed]",
      "text/plain": [
       "plot without title"
      ]
     },
     "metadata": {
      "image/png": {
       "height": 420,
       "width": 420
      }
     },
     "output_type": "display_data"
    }
   ],
   "source": [
    "ses_liestal <- ses(train_liestal_ts,\n",
    "                alpha = .15,\n",
    "                h = 7)\n",
    "autoplot(ses_liestal)"
   ]
  },
  {
   "cell_type": "code",
   "execution_count": 26,
   "id": "07ff94cf-86a7-498f-a82a-8ea7c404f27d",
   "metadata": {},
   "outputs": [
    {
     "data": {
      "text/plain": [
       "    Point Forecast    Lo 80    Hi 80    Lo 95    Hi 95\n",
       "122        94.3077 80.81635 107.7991 73.67446 114.9409\n",
       "123        94.3077 80.66542 107.9500 73.44363 115.1718\n",
       "124        94.3077 80.51613 108.0993 73.21532 115.4001\n",
       "125        94.3077 80.36845 108.2470 72.98946 115.6259\n",
       "126        94.3077 80.22232 108.3931 72.76596 115.8494\n",
       "127        94.3077 80.07768 108.5377 72.54477 116.0706\n",
       "128        94.3077 79.93450 108.6809 72.32579 116.2896"
      ]
     },
     "metadata": {},
     "output_type": "display_data"
    }
   ],
   "source": [
    "ses_liestal"
   ]
  },
  {
   "cell_type": "code",
   "execution_count": null,
   "id": "43a12080-147d-4a97-8d13-865439f3f850",
   "metadata": {},
   "outputs": [],
   "source": []
  }
 ],
 "metadata": {
  "kernelspec": {
   "display_name": "R",
   "language": "R",
   "name": "ir"
  },
  "language_info": {
   "codemirror_mode": "r",
   "file_extension": ".r",
   "mimetype": "text/x-r-source",
   "name": "R",
   "pygments_lexer": "r",
   "version": "4.1.1"
  }
 },
 "nbformat": 4,
 "nbformat_minor": 5
}
