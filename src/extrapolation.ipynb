{
 "cells": [
  {
   "cell_type": "code",
   "execution_count": 1,
   "id": "3b51b017-d6a3-4629-b8ed-d05cc9c3ac16",
   "metadata": {},
   "outputs": [
    {
     "name": "stderr",
     "output_type": "stream",
     "text": [
      "-- \u001b[1mAttaching packages\u001b[22m ------------------------------------------------------------------------------- tidyverse 1.3.1 --\n",
      "\n",
      "\u001b[32mv\u001b[39m \u001b[34mggplot2\u001b[39m 3.3.5     \u001b[32mv\u001b[39m \u001b[34mpurrr  \u001b[39m 0.3.4\n",
      "\u001b[32mv\u001b[39m \u001b[34mtibble \u001b[39m 3.1.6     \u001b[32mv\u001b[39m \u001b[34mdplyr  \u001b[39m 1.0.7\n",
      "\u001b[32mv\u001b[39m \u001b[34mtidyr  \u001b[39m 1.2.0     \u001b[32mv\u001b[39m \u001b[34mstringr\u001b[39m 1.4.0\n",
      "\u001b[32mv\u001b[39m \u001b[34mreadr  \u001b[39m 2.0.2     \u001b[32mv\u001b[39m \u001b[34mforcats\u001b[39m 0.5.1\n",
      "\n",
      "Warning message:\n",
      "\"package 'tibble' was built under R version 4.1.2\"\n",
      "Warning message:\n",
      "\"package 'tidyr' was built under R version 4.1.2\"\n",
      "-- \u001b[1mConflicts\u001b[22m ---------------------------------------------------------------------------------- tidyverse_conflicts() --\n",
      "\u001b[31mx\u001b[39m \u001b[34mdplyr\u001b[39m::\u001b[32mfilter()\u001b[39m masks \u001b[34mstats\u001b[39m::filter()\n",
      "\u001b[31mx\u001b[39m \u001b[34mdplyr\u001b[39m::\u001b[32mlag()\u001b[39m    masks \u001b[34mstats\u001b[39m::lag()\n",
      "\n",
      "Warning message:\n",
      "\"package 'forecast' was built under R version 4.1.2\"\n",
      "Registered S3 method overwritten by 'quantmod':\n",
      "  method            from\n",
      "  as.zoo.data.frame zoo \n",
      "\n",
      "Warning message:\n",
      "\"package 'fpp2' was built under R version 4.1.2\"\n",
      "-- \u001b[1mAttaching packages\u001b[22m -------------------------------------------------------------------------------------- fpp2 2.4 --\n",
      "\n",
      "\u001b[32mv\u001b[39m \u001b[34mfma      \u001b[39m 2.4     \u001b[32mv\u001b[39m \u001b[34mexpsmooth\u001b[39m 2.3\n",
      "\n",
      "Warning message:\n",
      "\"package 'fma' was built under R version 4.1.2\"\n",
      "Warning message:\n",
      "\"package 'expsmooth' was built under R version 4.1.2\"\n",
      "\n",
      "\n",
      "Warning message:\n",
      "\"package 'rnoaa' was built under R version 4.1.2\"\n",
      "Registered S3 method overwritten by 'hoardr':\n",
      "  method           from\n",
      "  print.cache_info httr\n",
      "\n",
      "\n",
      "Attaching package: 'lubridate'\n",
      "\n",
      "\n",
      "The following objects are masked from 'package:base':\n",
      "\n",
      "    date, intersect, setdiff, union\n",
      "\n",
      "\n"
     ]
    }
   ],
   "source": [
    "library(tidyverse)\n",
    "library(forecast)\n",
    "library(fpp2)\n",
    "library(rnoaa)\n",
    "library(lubridate)"
   ]
  },
  {
   "cell_type": "code",
   "execution_count": 2,
   "id": "98aeaee7-8d2c-49a7-8ab1-b40617912abb",
   "metadata": {},
   "outputs": [
    {
     "name": "stderr",
     "output_type": "stream",
     "text": [
      "using cached file: C:\\Users\\Maoli\\AppData\\Local/Cache/R/noaa_ghcnd/ghcnd-stations.rds\n",
      "\n",
      "date created (size, mb): 2022-02-12 20:25:20 (2.159)\n",
      "\n",
      "using cached file: C:\\Users\\Maoli\\AppData\\Local/Cache/R/noaa_ghcnd/ghcnd-inventory.rds\n",
      "\n",
      "date created (size, mb): 2022-02-12 20:26:28 (2.669)\n",
      "\n"
     ]
    }
   ],
   "source": [
    "stations <- ghcnd_stations()"
   ]
  },
  {
   "cell_type": "code",
   "execution_count": 3,
   "id": "1f60a0e2-ba7c-4398-906e-f9c4e64709cc",
   "metadata": {},
   "outputs": [],
   "source": [
    "kyoto <- read.csv(\"../data/raw/kyoto.csv\")\n",
    "liestal <- read.csv(\"../data/raw/liestal.csv\")\n",
    "washingtondc <- read.csv(\"../data/raw/washingtondc.csv\")"
   ]
  },
  {
   "cell_type": "code",
   "execution_count": 4,
   "id": "138a0c0f-a74e-45e7-b4cd-05fa33fbd35e",
   "metadata": {},
   "outputs": [],
   "source": [
    "kyoto <- kyoto |> \n",
    "  mutate(id = \"JA000047759\")\n",
    "washingtondc <- washingtondc |> \n",
    "  mutate(id = \"USC00186350\")\n",
    "liestal <- liestal |> \n",
    "  mutate(id = \"GME00127786\")\n",
    "\n",
    "van_id <- \"CA001108395\""
   ]
  },
  {
   "cell_type": "code",
   "execution_count": 5,
   "id": "237b153e-ef9e-4ba9-b58a-458e07bb0fc6",
   "metadata": {},
   "outputs": [],
   "source": [
    "para_list <- c(\"tmax\", \"tmin\", \"prcp\")\n",
    "id_list <- c(\"JA000047759\", \"GME00127786\", \"USC00186350\", \"CA001108395\")"
   ]
  },
  {
   "cell_type": "code",
   "execution_count": 6,
   "id": "354493d3-48b3-4aae-8039-6d958f8ef2ff",
   "metadata": {},
   "outputs": [
    {
     "name": "stderr",
     "output_type": "stream",
     "text": [
      "using cached file: C:\\Users\\Maoli\\AppData\\Local/Cache/R/noaa_ghcnd/JA000047759.dly\n",
      "\n",
      "date created (size, mb): 2022-02-21 00:47:14 (1.666)\n",
      "\n",
      "file min/max dates: 1945-10-01 / 2022-02-28\n",
      "\n",
      "using cached file: C:\\Users\\Maoli\\AppData\\Local/Cache/R/noaa_ghcnd/JA000047759.dly\n",
      "\n",
      "date created (size, mb): 2022-02-21 00:47:14 (1.666)\n",
      "\n",
      "file min/max dates: 1945-10-01 / 2022-02-28\n",
      "\n",
      "using cached file: C:\\Users\\Maoli\\AppData\\Local/Cache/R/noaa_ghcnd/JA000047759.dly\n",
      "\n",
      "date created (size, mb): 2022-02-21 00:47:14 (1.666)\n",
      "\n",
      "file min/max dates: 1945-10-01 / 2022-02-28\n",
      "\n"
     ]
    }
   ],
   "source": [
    "kyoto_weather <- ghcnd_search(stationid = \"JA000047759\", date_min = \"1950-01-01\", date_max = \"2022-01-31\")[[\"tmax\"]]\n",
    "kyoto_weather <- merge(kyoto_weather, ghcnd_search(stationid = \"JA000047759\", date_min = \"1950-01-01\", date_max = \"2022-01-31\")[[\"tmin\"]], by = c(\"date\", 'id'))\n",
    "kyoto_weather <- merge(kyoto_weather, ghcnd_search(stationid = \"JA000047759\", date_min = \"1950-01-01\", date_max = \"2022-01-31\")[[\"prcp\"]], by = c(\"date\", 'id')) |> \n",
    "  select(date, id, tmax, tmin, prcp)|> \n",
    "  mutate(tmax = tmax / 10, tmin = tmin / 10) |> \n",
    "  mutate(month = month(date), year = year(date))"
   ]
  },
  {
   "cell_type": "code",
   "execution_count": 7,
   "id": "ffb02a7b-bd33-489c-9f14-314af407f2fe",
   "metadata": {},
   "outputs": [
    {
     "name": "stderr",
     "output_type": "stream",
     "text": [
      "using cached file: C:\\Users\\Maoli\\AppData\\Local/Cache/R/noaa_ghcnd/CA001108395.dly\n",
      "\n",
      "date created (size, mb): 2022-02-21 20:12:58 (1.283)\n",
      "\n",
      "file min/max dates: 1957-01-01 / 2022-02-28\n",
      "\n",
      "using cached file: C:\\Users\\Maoli\\AppData\\Local/Cache/R/noaa_ghcnd/CA001108395.dly\n",
      "\n",
      "date created (size, mb): 2022-02-21 20:12:58 (1.283)\n",
      "\n",
      "file min/max dates: 1957-01-01 / 2022-02-28\n",
      "\n",
      "using cached file: C:\\Users\\Maoli\\AppData\\Local/Cache/R/noaa_ghcnd/CA001108395.dly\n",
      "\n",
      "date created (size, mb): 2022-02-21 20:12:58 (1.283)\n",
      "\n",
      "file min/max dates: 1957-01-01 / 2022-02-28\n",
      "\n"
     ]
    }
   ],
   "source": [
    "van_weather <- ghcnd_search(stationid = \"CA001108395\", date_min = \"1950-01-01\", date_max = \"2022-01-31\")[[\"tmax\"]]\n",
    "van_weather <- merge(van_weather, ghcnd_search(stationid = \"CA001108395\", date_min = \"1950-01-01\", date_max = \"2022-01-31\")[[\"tmin\"]], by = c(\"date\", 'id'))\n",
    "van_weather <- merge(van_weather, ghcnd_search(stationid = \"CA001108395\", date_min = \"1950-01-01\", date_max = \"2022-01-31\")[[\"prcp\"]], by = c(\"date\", 'id')) |> \n",
    "  select(date, id, tmax, tmin, prcp)|> \n",
    "  mutate(tmax = tmax / 10, tmin = tmin / 10) |> \n",
    "  mutate(month = month(date), year = year(date))"
   ]
  },
  {
   "cell_type": "code",
   "execution_count": 8,
   "id": "e2df5dc4-41b3-492c-ac37-f95e13b7b399",
   "metadata": {},
   "outputs": [
    {
     "name": "stderr",
     "output_type": "stream",
     "text": [
      "using cached file: C:\\Users\\Maoli\\AppData\\Local/Cache/R/noaa_ghcnd/GME00127786.dly\n",
      "\n",
      "date created (size, mb): 2022-02-21 03:07:32 (1.559)\n",
      "\n",
      "file min/max dates: 1953-09-01 / 2021-12-31\n",
      "\n",
      "using cached file: C:\\Users\\Maoli\\AppData\\Local/Cache/R/noaa_ghcnd/GME00127786.dly\n",
      "\n",
      "date created (size, mb): 2022-02-21 03:07:32 (1.559)\n",
      "\n",
      "file min/max dates: 1953-09-01 / 2021-12-31\n",
      "\n",
      "using cached file: C:\\Users\\Maoli\\AppData\\Local/Cache/R/noaa_ghcnd/GME00127786.dly\n",
      "\n",
      "date created (size, mb): 2022-02-21 03:07:32 (1.559)\n",
      "\n",
      "file min/max dates: 1953-09-01 / 2021-12-31\n",
      "\n"
     ]
    }
   ],
   "source": [
    "liestal_weather <- ghcnd_search(stationid = \"GME00127786\", date_min = \"1950-01-01\", date_max = \"2022-01-31\")[[\"tmax\"]]\n",
    "liestal_weather <- merge(liestal_weather, ghcnd_search(stationid = \"GME00127786\", date_min = \"1950-01-01\", date_max = \"2022-01-31\")[[\"tmin\"]], by = c(\"date\", 'id'))\n",
    "liestal_weather <- merge(liestal_weather, ghcnd_search(stationid = \"GME00127786\", date_min = \"1950-01-01\", date_max = \"2022-01-31\")[[\"prcp\"]], by = c(\"date\", 'id')) |> \n",
    "  select(date, id, tmax, tmin, prcp)|> \n",
    "  mutate(tmax = tmax / 10, tmin = tmin / 10) |> \n",
    "  mutate(month = month(date), year = year(date))"
   ]
  },
  {
   "cell_type": "code",
   "execution_count": 9,
   "id": "fca5f236-a92f-4dd4-a9b1-db3dd333676a",
   "metadata": {},
   "outputs": [
    {
     "name": "stderr",
     "output_type": "stream",
     "text": [
      "using cached file: C:\\Users\\Maoli\\AppData\\Local/Cache/R/noaa_ghcnd/USC00186350.dly\n",
      "\n",
      "date created (size, mb): 2022-02-12 22:42:14 (2.696)\n",
      "\n",
      "file min/max dates: 1948-08-01 / 2021-10-31\n",
      "\n",
      "using cached file: C:\\Users\\Maoli\\AppData\\Local/Cache/R/noaa_ghcnd/USC00186350.dly\n",
      "\n",
      "date created (size, mb): 2022-02-12 22:42:14 (2.696)\n",
      "\n",
      "file min/max dates: 1948-08-01 / 2021-10-31\n",
      "\n",
      "using cached file: C:\\Users\\Maoli\\AppData\\Local/Cache/R/noaa_ghcnd/USC00186350.dly\n",
      "\n",
      "date created (size, mb): 2022-02-12 22:42:14 (2.696)\n",
      "\n",
      "file min/max dates: 1948-08-01 / 2021-10-31\n",
      "\n"
     ]
    }
   ],
   "source": [
    "dc_weather <- ghcnd_search(stationid = \"USC00186350\", date_min = \"1950-01-01\", date_max = \"2022-01-31\")[[\"tmax\"]]\n",
    "dc_weather <- merge(dc_weather, ghcnd_search(stationid = \"USC00186350\", date_min = \"1950-01-01\", date_max = \"2022-01-31\")[[\"tmin\"]], by = c(\"date\", 'id'))\n",
    "dc_weather <- merge(dc_weather, ghcnd_search(stationid = \"USC00186350\", date_min = \"1950-01-01\", date_max = \"2022-01-31\")[[\"prcp\"]], by = c(\"date\", 'id')) |> \n",
    "  select(date, id, tmax, tmin, prcp)|> \n",
    "  mutate(tmax = tmax / 10, tmin = tmin / 10) |> \n",
    "  mutate(month = month(date), year = year(date))"
   ]
  },
  {
   "cell_type": "code",
   "execution_count": 10,
   "id": "e3969af1-01e0-485f-9e8f-3eac62b47ed1",
   "metadata": {},
   "outputs": [],
   "source": [
    "kyoto_weather_tmax_ts <- ts(kyoto_weather$tmax, freq = 365)\n",
    "kyoto_weather_tmin_ts <- ts(kyoto_weather$tmin, freq = 365)\n",
    "kyoto_weather_prcp_ts <- ts(kyoto_weather$prcp, freq = 365)\n",
    "van_weather_tmax_ts <- ts(van_weather$tmax, freq = 365)\n",
    "van_weather_tmin_ts <- ts(van_weather$tmin, freq = 365)\n",
    "van_weather_prcp_ts <- ts(van_weather$prcp, freq = 365)\n",
    "liestal_weather_tmax_ts <- ts(liestal_weather$tmax, freq = 365)\n",
    "liestal_weather_tmin_ts <- ts(liestal_weather$tmin, freq = 365)\n",
    "liestal_weather_prcp_ts <- ts(liestal_weather$prcp, freq = 365)\n",
    "dc_weather_tmax_ts <- ts(dc_weather$tmax, freq = 365)\n",
    "dc_weather_tmin_ts <- ts(dc_weather$tmin, freq = 365)\n",
    "dc_weather_prcp_ts <- ts(dc_weather$prcp, freq = 365)"
   ]
  },
  {
   "cell_type": "code",
   "execution_count": 11,
   "id": "99dfcbc7-dbd4-4f8f-84ce-20526788205a",
   "metadata": {},
   "outputs": [],
   "source": [
    "model_kyoto_tmax <- auto.arima(kyoto_weather_tmax_ts)\n",
    "model_kyoto_tmin <- auto.arima(kyoto_weather_tmin_ts)\n",
    "model_kyoto_prcp <- auto.arima(kyoto_weather_prcp_ts)"
   ]
  },
  {
   "cell_type": "code",
   "execution_count": 12,
   "id": "27e3766e-d02c-433d-a086-29f4a68c8993",
   "metadata": {},
   "outputs": [],
   "source": [
    "model_van_tmax <- auto.arima(van_weather_tmax_ts)\n",
    "model_van_tmin <- auto.arima(van_weather_tmin_ts)\n",
    "model_van_prcp <- auto.arima(van_weather_prcp_ts)"
   ]
  },
  {
   "cell_type": "code",
   "execution_count": 13,
   "id": "c00d5b91-1885-44b5-9487-08c88d74e049",
   "metadata": {},
   "outputs": [],
   "source": [
    "model_liestal_tmax <- auto.arima(liestal_weather_tmax_ts)\n",
    "model_liestal_tmin <- auto.arima(liestal_weather_tmin_ts)\n",
    "model_liestal_prcp <- auto.arima(liestal_weather_prcp_ts)"
   ]
  },
  {
   "cell_type": "code",
   "execution_count": 14,
   "id": "dfd15716-71e0-4ab4-a4cb-40209f063b1c",
   "metadata": {},
   "outputs": [],
   "source": [
    "model_dc_tmax <- auto.arima(dc_weather_tmax_ts)\n",
    "model_dc_tmin <- auto.arima(dc_weather_tmin_ts)\n",
    "model_dc_prcp <- auto.arima(dc_weather_prcp_ts)"
   ]
  },
  {
   "cell_type": "code",
   "execution_count": 15,
   "id": "822a6ca5-5dd8-409f-8e0c-9ea4f87d9f53",
   "metadata": {},
   "outputs": [],
   "source": [
    "kyoto_tmax_hat <- forecast(model_kyoto_tmax, h = 11*365)\n",
    "kyoto_tmin_hat <- forecast(model_kyoto_tmin, h = 11*365)\n",
    "kyoto_prcp_hat <- forecast(model_kyoto_prcp, h = 11*365)"
   ]
  },
  {
   "cell_type": "code",
   "execution_count": 16,
   "id": "5adcd62a-7c25-47b6-8f7a-1fd0bedb977a",
   "metadata": {},
   "outputs": [],
   "source": [
    "van_tmax_hat <- forecast(model_van_tmax, h = 11*365)\n",
    "van_tmin_hat <- forecast(model_van_tmin, h = 11*365)\n",
    "van_prcp_hat <- forecast(model_van_prcp, h = 11*365)"
   ]
  },
  {
   "cell_type": "code",
   "execution_count": 17,
   "id": "211dafdf-89e3-4c34-a243-d0abb8a97992",
   "metadata": {},
   "outputs": [],
   "source": [
    "liestal_tmax_hat <- forecast(model_liestal_tmax, h = 11*365)\n",
    "liestal_tmin_hat <- forecast(model_liestal_tmin, h = 11*365)\n",
    "liestal_prcp_hat <- forecast(model_liestal_prcp, h = 11*365)"
   ]
  },
  {
   "cell_type": "code",
   "execution_count": 18,
   "id": "fbfd07a0-9c84-4de6-9c3e-0768dcee8929",
   "metadata": {},
   "outputs": [],
   "source": [
    "dc_tmax_hat <- forecast(model_dc_tmax, h = 11*365)\n",
    "dc_tmin_hat <- forecast(model_dc_tmin, h = 11*365)\n",
    "dc_prcp_hat <- forecast(model_dc_prcp, h = 11*365)"
   ]
  },
  {
   "cell_type": "code",
   "execution_count": 31,
   "id": "0bf666a8-970f-4795-a8ca-8b39209e6a88",
   "metadata": {},
   "outputs": [],
   "source": [
    "kyoto_extra <- tibble(tmax = kyoto_tmax_hat$mean, \n",
    "                      tmin = kyoto_tmin_hat$mean, \n",
    "                      prcp = kyoto_prcp_hat$mean, \n",
    "                      date = seq(ymd(\"2022-2-1\"), ymd(\"2033-1-28\"), by = \"days\"))"
   ]
  },
  {
   "cell_type": "code",
   "execution_count": 34,
   "id": "833dd456-6afa-4d03-8180-c3d2ea679755",
   "metadata": {},
   "outputs": [],
   "source": [
    "van_extra <- tibble(tmax = van_tmax_hat$mean, \n",
    "                      tmin = van_tmin_hat$mean, \n",
    "                      prcp = van_prcp_hat$mean, \n",
    "                      date = seq(ymd(\"2022-2-1\"), ymd(\"2033-1-28\"), by = \"days\"))"
   ]
  },
  {
   "cell_type": "code",
   "execution_count": 48,
   "id": "0977d141-1521-4bbb-9def-2e3a3dbab3f1",
   "metadata": {},
   "outputs": [],
   "source": [
    "liestal_extra <- tibble(tmax = liestal_tmax_hat$mean, \n",
    "                      tmin = liestal_tmin_hat$mean, \n",
    "                      prcp = liestal_prcp_hat$mean, \n",
    "                      date = seq(ymd(\"2022-1-1\"), ymd(\"2032-12-28\"), by = \"days\"))"
   ]
  },
  {
   "cell_type": "code",
   "execution_count": 50,
   "id": "3e53a138-e12e-4425-9b40-2641288a5ef1",
   "metadata": {},
   "outputs": [],
   "source": [
    "dc_extra <- tibble(tmax = dc_tmax_hat$mean, \n",
    "                      tmin = dc_tmin_hat$mean, \n",
    "                      prcp = dc_prcp_hat$mean, \n",
    "                      date = seq(ymd(\"2021-11-1\"), ymd(\"2032-10-28\"), by = \"days\"))"
   ]
  },
  {
   "cell_type": "code",
   "execution_count": 51,
   "id": "90efcd67-4ec5-48f5-9bac-03411390e1aa",
   "metadata": {},
   "outputs": [],
   "source": [
    "write.csv(kyoto_extra,\"../data/processed/kyoto_extra.csv\", row.names = FALSE)\n",
    "write.csv(van_extra,\"../data/processed/van_extra.csv\", row.names = FALSE)\n",
    "write.csv(liestal_extra,\"../data/processed/liestal_extra.csv\", row.names = FALSE)\n",
    "write.csv(dc_extra,\"../data/processed/dc_extra.csv\", row.names = FALSE)"
   ]
  },
  {
   "cell_type": "code",
   "execution_count": null,
   "id": "06fbd2c6-6d6d-47e0-851c-e90fd3e2ab1d",
   "metadata": {},
   "outputs": [],
   "source": []
  }
 ],
 "metadata": {
  "kernelspec": {
   "display_name": "R",
   "language": "R",
   "name": "ir"
  },
  "language_info": {
   "codemirror_mode": "r",
   "file_extension": ".r",
   "mimetype": "text/x-r-source",
   "name": "R",
   "pygments_lexer": "r",
   "version": "4.1.1"
  }
 },
 "nbformat": 4,
 "nbformat_minor": 5
}
